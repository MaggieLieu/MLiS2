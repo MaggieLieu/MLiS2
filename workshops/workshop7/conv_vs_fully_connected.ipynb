{
  "nbformat": 4,
  "nbformat_minor": 0,
  "metadata": {
    "colab": {
      "name": "conv_vs_fully_connected.ipynb",
      "provenance": [],
      "authorship_tag": "ABX9TyNfB3aHw73J/FkutU5X+w+y",
      "include_colab_link": true
    },
    "kernelspec": {
      "name": "python3",
      "display_name": "Python 3"
    },
    "language_info": {
      "name": "python"
    }
  },
  "cells": [
    {
      "cell_type": "markdown",
      "metadata": {
        "id": "view-in-github",
        "colab_type": "text"
      },
      "source": [
        "<a href=\"https://colab.research.google.com/github/adammoss/MLiS2/blob/master/workshops/workshop7/conv_vs_fully_connected.ipynb\" target=\"_parent\"><img src=\"https://colab.research.google.com/assets/colab-badge.svg\" alt=\"Open In Colab\"/></a>"
      ]
    },
    {
      "cell_type": "code",
      "metadata": {
        "id": "hvsqmCkxQOV3"
      },
      "source": [
        "try:\n",
        "  # %tensorflow_version only exists in Colab.\n",
        "  %tensorflow_version 2.x\n",
        "except Exception:\n",
        "  pass"
      ],
      "execution_count": 56,
      "outputs": []
    },
    {
      "cell_type": "code",
      "metadata": {
        "id": "0W_Cak0mQPrj"
      },
      "source": [
        "import tensorflow as tf\n",
        "from tensorflow import keras\n",
        "from tensorflow.keras import layers, models\n",
        "import numpy as np\n",
        "import matplotlib.pyplot as plt\n",
        "from tensorflow.keras.utils import plot_model\n",
        "from tensorflow.keras.models import Model"
      ],
      "execution_count": 57,
      "outputs": []
    },
    {
      "cell_type": "code",
      "metadata": {
        "id": "fW-KXt88QaR5"
      },
      "source": [
        "tf.random.set_seed(1)"
      ],
      "execution_count": 58,
      "outputs": []
    },
    {
      "cell_type": "code",
      "metadata": {
        "colab": {
          "base_uri": "https://localhost:8080/"
        },
        "id": "hnYXfAIrQcXz",
        "outputId": "4dacb58c-57f0-4407-8b3c-355db5a15ec7"
      },
      "source": [
        "print(tf.__version__)"
      ],
      "execution_count": 59,
      "outputs": [
        {
          "output_type": "stream",
          "text": [
            "2.4.1\n"
          ],
          "name": "stdout"
        }
      ]
    },
    {
      "cell_type": "code",
      "metadata": {
        "id": "OGWPZoWAR8OT"
      },
      "source": [
        "class Encoder(layers.Layer):\n",
        "  def __init__(self, units):  \n",
        "    super(Encoder, self).__init__()\n",
        "    self.layers = [layers.Dense(units=u, activation=tf.nn.relu) for u in units]\n",
        "  def call(self, x):\n",
        "    for layer in self.layers:\n",
        "      x = layer(x)\n",
        "    return x"
      ],
      "execution_count": 60,
      "outputs": []
    },
    {
      "cell_type": "code",
      "metadata": {
        "id": "toJMslZyR9Ch"
      },
      "source": [
        "class Decoder(layers.Layer):\n",
        "  def __init__(self, units):\n",
        "    super(Decoder, self).__init__(units)\n",
        "    self.layers = [layers.Dense(units=u, activation=tf.nn.relu) for u in units]\n",
        "  def call(self, x):\n",
        "    for layer in self.layers:\n",
        "      x = layer(x)\n",
        "    return x"
      ],
      "execution_count": 61,
      "outputs": []
    },
    {
      "cell_type": "code",
      "metadata": {
        "id": "6n9WiY-jSBOC"
      },
      "source": [
        "class Autoencoder(tf.keras.Model):\n",
        "  def __init__(self, encoder_units, decoder_units):\n",
        "    super(Autoencoder, self).__init__()\n",
        "    self.encoder = Encoder(encoder_units)\n",
        "    self.decoder = Decoder(decoder_units)\n",
        "  def call(self, x):\n",
        "    x = self.encoder(x)\n",
        "    x = self.decoder(x)\n",
        "    return x\n",
        "  def model(self,input_shape):\n",
        "    x = layers.Input(shape=input_shape)\n",
        "    return tf.keras.Model(inputs=[x], outputs=self.call(x))"
      ],
      "execution_count": 62,
      "outputs": []
    },
    {
      "cell_type": "code",
      "metadata": {
        "id": "lRiDLX5rQnKz"
      },
      "source": [
        "(X_train, Y_train), (X_test, Y_test) =  tf.keras.datasets.mnist.load_data()\n",
        "X_train = X_train/ 255\n",
        "X_test = X_test/ 255\n",
        "X_train = np.reshape(X_train, (X_train.shape[0], X_train.shape[1] * X_train.shape[2])).astype(np.float32)\n",
        "X_test = np.reshape(X_test, (X_test.shape[0], X_test.shape[1] * X_test.shape[2])).astype(np.float32)"
      ],
      "execution_count": 63,
      "outputs": []
    },
    {
      "cell_type": "code",
      "metadata": {
        "id": "oAnLlkZAVu63"
      },
      "source": [
        "autoencoder = Autoencoder([X_train.shape[1], 200], [X_train.shape[1]])"
      ],
      "execution_count": 64,
      "outputs": []
    },
    {
      "cell_type": "code",
      "metadata": {
        "id": "bRdxhZvaRnho"
      },
      "source": [
        "autoencoder.compile(optimizer='adam', loss='mse', metrics=['mse'])"
      ],
      "execution_count": 65,
      "outputs": []
    },
    {
      "cell_type": "code",
      "metadata": {
        "colab": {
          "base_uri": "https://localhost:8080/"
        },
        "id": "Nlr5r9KXRroj",
        "outputId": "299036c7-8ca8-4e76-b733-77c667a03d6d"
      },
      "source": [
        "autoencoder.build(X_train.shape)\n",
        "autoencoder.model(input_shape=X_train.shape[1]).summary()"
      ],
      "execution_count": 66,
      "outputs": [
        {
          "output_type": "stream",
          "text": [
            "Model: \"model_10\"\n",
            "_________________________________________________________________\n",
            "Layer (type)                 Output Shape              Param #   \n",
            "=================================================================\n",
            "input_15 (InputLayer)        [(None, 784)]             0         \n",
            "_________________________________________________________________\n",
            "encoder_2 (Encoder)          (None, 200)               772440    \n",
            "_________________________________________________________________\n",
            "decoder_2 (Decoder)          (None, 784)               157584    \n",
            "=================================================================\n",
            "Total params: 930,024\n",
            "Trainable params: 930,024\n",
            "Non-trainable params: 0\n",
            "_________________________________________________________________\n"
          ],
          "name": "stdout"
        }
      ]
    },
    {
      "cell_type": "code",
      "metadata": {
        "colab": {
          "base_uri": "https://localhost:8080/",
          "height": 312
        },
        "id": "7azk2LkGRxTh",
        "outputId": "d680df73-4aa7-47b6-cb51-dcaa76e36dba"
      },
      "source": [
        "plot_model(autoencoder.model(input_shape=X_train.shape[1]),show_shapes=True, show_layer_names=True)"
      ],
      "execution_count": 67,
      "outputs": [
        {
          "output_type": "execute_result",
          "data": {
            "image/png": "[encoded data removed]",
            "text/plain": [
              "<IPython.core.display.Image object>"
            ]
          },
          "metadata": {
            "tags": []
          },
          "execution_count": 67
        }
      ]
    },
    {
      "cell_type": "code",
      "metadata": {
        "colab": {
          "base_uri": "https://localhost:8080/"
        },
        "id": "Hs0tDPVdVGzM",
        "outputId": "22eeda74-a6ce-4bfb-a469-78622d3746b7"
      },
      "source": [
        "history = autoencoder.fit(X_train, X_train, epochs=50, batch_size=256, validation_data=(X_test, X_test))"
      ],
      "execution_count": 68,
      "outputs": [
        {
          "output_type": "stream",
          "text": [
            "Epoch 1/50\n",
            "235/235 [==============================] - 8s 32ms/step - loss: 0.0370 - mse: 0.0370 - val_loss: 0.0089 - val_mse: 0.0089\n",
            "Epoch 2/50\n",
            "235/235 [==============================] - 7s 31ms/step - loss: 0.0083 - mse: 0.0083 - val_loss: 0.0070 - val_mse: 0.0070\n",
            "Epoch 3/50\n",
            "235/235 [==============================] - 7s 30ms/step - loss: 0.0069 - mse: 0.0069 - val_loss: 0.0064 - val_mse: 0.0064\n",
            "Epoch 4/50\n",
            "235/235 [==============================] - 7s 30ms/step - loss: 0.0063 - mse: 0.0063 - val_loss: 0.0059 - val_mse: 0.0059\n",
            "Epoch 5/50\n",
            "235/235 [==============================] - 7s 31ms/step - loss: 0.0059 - mse: 0.0059 - val_loss: 0.0056 - val_mse: 0.0056\n",
            "Epoch 6/50\n",
            "235/235 [==============================] - 7s 31ms/step - loss: 0.0056 - mse: 0.0056 - val_loss: 0.0055 - val_mse: 0.0055\n",
            "Epoch 7/50\n",
            "235/235 [==============================] - 7s 30ms/step - loss: 0.0054 - mse: 0.0054 - val_loss: 0.0053 - val_mse: 0.0053\n",
            "Epoch 8/50\n",
            "235/235 [==============================] - 7s 30ms/step - loss: 0.0053 - mse: 0.0053 - val_loss: 0.0052 - val_mse: 0.0052\n",
            "Epoch 9/50\n",
            "235/235 [==============================] - 7s 31ms/step - loss: 0.0052 - mse: 0.0052 - val_loss: 0.0051 - val_mse: 0.0051\n",
            "Epoch 10/50\n",
            "235/235 [==============================] - 7s 30ms/step - loss: 0.0052 - mse: 0.0052 - val_loss: 0.0051 - val_mse: 0.0051\n",
            "Epoch 11/50\n",
            "235/235 [==============================] - 7s 30ms/step - loss: 0.0051 - mse: 0.0051 - val_loss: 0.0050 - val_mse: 0.0050\n",
            "Epoch 12/50\n",
            "235/235 [==============================] - 7s 31ms/step - loss: 0.0050 - mse: 0.0050 - val_loss: 0.0049 - val_mse: 0.0049\n",
            "Epoch 13/50\n",
            "235/235 [==============================] - 7s 31ms/step - loss: 0.0049 - mse: 0.0049 - val_loss: 0.0049 - val_mse: 0.0049\n",
            "Epoch 14/50\n",
            "235/235 [==============================] - 7s 31ms/step - loss: 0.0049 - mse: 0.0049 - val_loss: 0.0049 - val_mse: 0.0049\n",
            "Epoch 15/50\n",
            "235/235 [==============================] - 7s 31ms/step - loss: 0.0049 - mse: 0.0049 - val_loss: 0.0048 - val_mse: 0.0048\n",
            "Epoch 16/50\n",
            "235/235 [==============================] - 7s 31ms/step - loss: 0.0049 - mse: 0.0049 - val_loss: 0.0048 - val_mse: 0.0048\n",
            "Epoch 17/50\n",
            "235/235 [==============================] - 7s 31ms/step - loss: 0.0048 - mse: 0.0048 - val_loss: 0.0048 - val_mse: 0.0048\n",
            "Epoch 18/50\n",
            "235/235 [==============================] - 7s 31ms/step - loss: 0.0048 - mse: 0.0048 - val_loss: 0.0047 - val_mse: 0.0047\n",
            "Epoch 19/50\n",
            "235/235 [==============================] - 7s 31ms/step - loss: 0.0048 - mse: 0.0048 - val_loss: 0.0047 - val_mse: 0.0047\n",
            "Epoch 20/50\n",
            "235/235 [==============================] - 7s 31ms/step - loss: 0.0047 - mse: 0.0047 - val_loss: 0.0047 - val_mse: 0.0047\n",
            "Epoch 21/50\n",
            "235/235 [==============================] - 7s 31ms/step - loss: 0.0047 - mse: 0.0047 - val_loss: 0.0047 - val_mse: 0.0047\n",
            "Epoch 22/50\n",
            "235/235 [==============================] - 7s 31ms/step - loss: 0.0047 - mse: 0.0047 - val_loss: 0.0047 - val_mse: 0.0047\n",
            "Epoch 23/50\n",
            "235/235 [==============================] - 7s 31ms/step - loss: 0.0046 - mse: 0.0046 - val_loss: 0.0046 - val_mse: 0.0046\n",
            "Epoch 24/50\n",
            "235/235 [==============================] - 7s 31ms/step - loss: 0.0046 - mse: 0.0046 - val_loss: 0.0046 - val_mse: 0.0046\n",
            "Epoch 25/50\n",
            "235/235 [==============================] - 7s 31ms/step - loss: 0.0046 - mse: 0.0046 - val_loss: 0.0046 - val_mse: 0.0046\n",
            "Epoch 26/50\n",
            "235/235 [==============================] - 7s 31ms/step - loss: 0.0046 - mse: 0.0046 - val_loss: 0.0045 - val_mse: 0.0045\n",
            "Epoch 27/50\n",
            "235/235 [==============================] - 7s 31ms/step - loss: 0.0046 - mse: 0.0046 - val_loss: 0.0046 - val_mse: 0.0046\n",
            "Epoch 28/50\n",
            "235/235 [==============================] - 7s 31ms/step - loss: 0.0046 - mse: 0.0046 - val_loss: 0.0046 - val_mse: 0.0046\n",
            "Epoch 29/50\n",
            "235/235 [==============================] - 7s 31ms/step - loss: 0.0045 - mse: 0.0045 - val_loss: 0.0045 - val_mse: 0.0045\n",
            "Epoch 30/50\n",
            "235/235 [==============================] - 7s 31ms/step - loss: 0.0045 - mse: 0.0045 - val_loss: 0.0045 - val_mse: 0.0045\n",
            "Epoch 31/50\n",
            "235/235 [==============================] - 7s 31ms/step - loss: 0.0045 - mse: 0.0045 - val_loss: 0.0045 - val_mse: 0.0045\n",
            "Epoch 32/50\n",
            "235/235 [==============================] - 7s 31ms/step - loss: 0.0045 - mse: 0.0045 - val_loss: 0.0045 - val_mse: 0.0045\n",
            "Epoch 33/50\n",
            "235/235 [==============================] - 7s 31ms/step - loss: 0.0046 - mse: 0.0046 - val_loss: 0.0045 - val_mse: 0.0045\n",
            "Epoch 34/50\n",
            "235/235 [==============================] - 7s 31ms/step - loss: 0.0045 - mse: 0.0045 - val_loss: 0.0045 - val_mse: 0.0045\n",
            "Epoch 35/50\n",
            "235/235 [==============================] - 7s 31ms/step - loss: 0.0045 - mse: 0.0045 - val_loss: 0.0044 - val_mse: 0.0044\n",
            "Epoch 36/50\n",
            "235/235 [==============================] - 7s 31ms/step - loss: 0.0045 - mse: 0.0045 - val_loss: 0.0044 - val_mse: 0.0044\n",
            "Epoch 37/50\n",
            "235/235 [==============================] - 7s 31ms/step - loss: 0.0045 - mse: 0.0045 - val_loss: 0.0045 - val_mse: 0.0045\n",
            "Epoch 38/50\n",
            "235/235 [==============================] - 7s 31ms/step - loss: 0.0045 - mse: 0.0045 - val_loss: 0.0044 - val_mse: 0.0044\n",
            "Epoch 39/50\n",
            "235/235 [==============================] - 7s 31ms/step - loss: 0.0044 - mse: 0.0044 - val_loss: 0.0044 - val_mse: 0.0044\n",
            "Epoch 40/50\n",
            "235/235 [==============================] - 7s 31ms/step - loss: 0.0044 - mse: 0.0044 - val_loss: 0.0045 - val_mse: 0.0045\n",
            "Epoch 41/50\n",
            "235/235 [==============================] - 7s 31ms/step - loss: 0.0044 - mse: 0.0044 - val_loss: 0.0045 - val_mse: 0.0045\n",
            "Epoch 42/50\n",
            "235/235 [==============================] - 7s 31ms/step - loss: 0.0044 - mse: 0.0044 - val_loss: 0.0044 - val_mse: 0.0044\n",
            "Epoch 43/50\n",
            "235/235 [==============================] - 7s 30ms/step - loss: 0.0044 - mse: 0.0044 - val_loss: 0.0044 - val_mse: 0.0044\n",
            "Epoch 44/50\n",
            "235/235 [==============================] - 7s 31ms/step - loss: 0.0044 - mse: 0.0044 - val_loss: 0.0044 - val_mse: 0.0044\n",
            "Epoch 45/50\n",
            "235/235 [==============================] - 7s 31ms/step - loss: 0.0044 - mse: 0.0044 - val_loss: 0.0044 - val_mse: 0.0044\n",
            "Epoch 46/50\n",
            "235/235 [==============================] - 7s 31ms/step - loss: 0.0044 - mse: 0.0044 - val_loss: 0.0044 - val_mse: 0.0044\n",
            "Epoch 47/50\n",
            "235/235 [==============================] - 7s 31ms/step - loss: 0.0044 - mse: 0.0044 - val_loss: 0.0045 - val_mse: 0.0045\n",
            "Epoch 48/50\n",
            "235/235 [==============================] - 7s 31ms/step - loss: 0.0044 - mse: 0.0044 - val_loss: 0.0044 - val_mse: 0.0044\n",
            "Epoch 49/50\n",
            "235/235 [==============================] - 7s 31ms/step - loss: 0.0044 - mse: 0.0044 - val_loss: 0.0044 - val_mse: 0.0044\n",
            "Epoch 50/50\n",
            "235/235 [==============================] - 7s 31ms/step - loss: 0.0044 - mse: 0.0044 - val_loss: 0.0044 - val_mse: 0.0044\n"
          ],
          "name": "stdout"
        }
      ]
    },
    {
      "cell_type": "markdown",
      "metadata": {
        "id": "jfA4CZWYVKN5"
      },
      "source": [
        "# CNN AutoEncoder "
      ]
    },
    {
      "cell_type": "code",
      "metadata": {
        "id": "3sAQUzYUVHqU"
      },
      "source": [
        "class AutoencoderCNN(tf.keras.Model):\n",
        "  def __init__(self):\n",
        "    super(AutoencoderCNN, self).__init__()\n",
        "    self.encoder = tf.keras.Sequential([\n",
        "      layers.Input(shape=(28, 28, 1)),\n",
        "      layers.Conv2D(8, (3, 3), activation='relu', padding='same', strides=2),\n",
        "      layers.Conv2D(4, (3, 3), activation='relu', padding='same', strides=2)])\n",
        "    self.decoder = tf.keras.Sequential([\n",
        "      layers.Conv2DTranspose(4, kernel_size=3, strides=2, activation='relu', padding='same'),\n",
        "      layers.Conv2DTranspose(8, kernel_size=3, strides=2, activation='relu', padding='same'),\n",
        "      layers.Conv2D(1, kernel_size=(3, 3), activation='sigmoid', padding='same')])\n",
        "  def call(self, x):\n",
        "    x = self.encoder(x)\n",
        "    x = self.decoder(x)\n",
        "    return x\n",
        "  def model(self,input_shape):\n",
        "    x = layers.Input(shape=input_shape)\n",
        "    return tf.keras.Model(inputs=[x], outputs=self.call(x))"
      ],
      "execution_count": 69,
      "outputs": []
    },
    {
      "cell_type": "code",
      "metadata": {
        "id": "2sm7crGPSshl"
      },
      "source": [
        "(X_train, Y_train), (X_test, Y_test) =  tf.keras.datasets.mnist.load_data()\n",
        "X_train = X_train/ 255\n",
        "X_test = X_test/ 255\n",
        "X_train = np.expand_dims(X_train, -1)\n",
        "X_test = np.expand_dims(X_test, -1)"
      ],
      "execution_count": 70,
      "outputs": []
    },
    {
      "cell_type": "code",
      "metadata": {
        "id": "uLOv0UUOSQXi"
      },
      "source": [
        "autoencoder = AutoencoderCNN()"
      ],
      "execution_count": 71,
      "outputs": []
    },
    {
      "cell_type": "code",
      "metadata": {
        "id": "VtlKtjLUU-AK"
      },
      "source": [
        "autoencoder.compile(optimizer='adam', loss='mse', metrics=['mse'])"
      ],
      "execution_count": 72,
      "outputs": []
    },
    {
      "cell_type": "code",
      "metadata": {
        "colab": {
          "base_uri": "https://localhost:8080/"
        },
        "id": "olDbZ1sqSg8N",
        "outputId": "c27e048d-35d0-4e00-8a45-b44e78d9bf4e"
      },
      "source": [
        "autoencoder.build(X_train.shape)\n",
        "autoencoder.model(input_shape=X_train.shape[1:3]).summary()"
      ],
      "execution_count": 73,
      "outputs": [
        {
          "output_type": "stream",
          "text": [
            "Model: \"model_12\"\n",
            "_________________________________________________________________\n",
            "Layer (type)                 Output Shape              Param #   \n",
            "=================================================================\n",
            "input_18 (InputLayer)        [(None, 28, 28)]          0         \n",
            "_________________________________________________________________\n",
            "sequential_8 (Sequential)    (None, 7, 7, 4)           372       \n",
            "_________________________________________________________________\n",
            "sequential_9 (Sequential)    (None, 28, 28, 1)         517       \n",
            "=================================================================\n",
            "Total params: 889\n",
            "Trainable params: 889\n",
            "Non-trainable params: 0\n",
            "_________________________________________________________________\n"
          ],
          "name": "stdout"
        }
      ]
    },
    {
      "cell_type": "code",
      "metadata": {
        "colab": {
          "base_uri": "https://localhost:8080/",
          "height": 312
        },
        "id": "3bfp7Ju6Skhb",
        "outputId": "390206a1-bbd1-4819-c25f-7f83139dbc71"
      },
      "source": [
        "plot_model(autoencoder.model(input_shape=X_train.shape[1:3]),show_shapes=True, show_layer_names=True)"
      ],
      "execution_count": 74,
      "outputs": [
        {
          "output_type": "execute_result",
          "data": {
            "image/png": "[encoded data removed]",
            "text/plain": [
              "<IPython.core.display.Image object>"
            ]
          },
          "metadata": {
            "tags": []
          },
          "execution_count": 74
        }
      ]
    },
    {
      "cell_type": "code",
      "metadata": {
        "colab": {
          "base_uri": "https://localhost:8080/"
        },
        "id": "R0NUZq3sU0Ok",
        "outputId": "2efe1169-0e5f-4a20-eef2-835ad51b1e1e"
      },
      "source": [
        "history = autoencoder.fit(X_train, X_train, epochs=50, batch_size=256, validation_data=(X_test, X_test))"
      ],
      "execution_count": 75,
      "outputs": [
        {
          "output_type": "stream",
          "text": [
            "Epoch 1/50\n",
            "235/235 [==============================] - 35s 145ms/step - loss: 0.1555 - mse: 0.1555 - val_loss: 0.0128 - val_mse: 0.0128\n",
            "Epoch 2/50\n",
            "235/235 [==============================] - 34s 143ms/step - loss: 0.0106 - mse: 0.0106 - val_loss: 0.0065 - val_mse: 0.0065\n",
            "Epoch 3/50\n",
            "235/235 [==============================] - 33s 142ms/step - loss: 0.0063 - mse: 0.0063 - val_loss: 0.0050 - val_mse: 0.0050\n",
            "Epoch 4/50\n",
            "235/235 [==============================] - 34s 144ms/step - loss: 0.0049 - mse: 0.0049 - val_loss: 0.0041 - val_mse: 0.0041\n",
            "Epoch 5/50\n",
            "235/235 [==============================] - 34s 143ms/step - loss: 0.0041 - mse: 0.0041 - val_loss: 0.0036 - val_mse: 0.0036\n",
            "Epoch 6/50\n",
            "235/235 [==============================] - 34s 143ms/step - loss: 0.0037 - mse: 0.0037 - val_loss: 0.0033 - val_mse: 0.0033\n",
            "Epoch 7/50\n",
            "235/235 [==============================] - 34s 143ms/step - loss: 0.0034 - mse: 0.0034 - val_loss: 0.0031 - val_mse: 0.0031\n",
            "Epoch 8/50\n",
            "235/235 [==============================] - 34s 143ms/step - loss: 0.0032 - mse: 0.0032 - val_loss: 0.0030 - val_mse: 0.0030\n",
            "Epoch 9/50\n",
            "235/235 [==============================] - 33s 142ms/step - loss: 0.0031 - mse: 0.0031 - val_loss: 0.0029 - val_mse: 0.0029\n",
            "Epoch 10/50\n",
            "235/235 [==============================] - 33s 142ms/step - loss: 0.0030 - mse: 0.0030 - val_loss: 0.0028 - val_mse: 0.0028\n",
            "Epoch 11/50\n",
            "235/235 [==============================] - 34s 143ms/step - loss: 0.0029 - mse: 0.0029 - val_loss: 0.0027 - val_mse: 0.0027\n",
            "Epoch 12/50\n",
            "235/235 [==============================] - 34s 145ms/step - loss: 0.0028 - mse: 0.0028 - val_loss: 0.0026 - val_mse: 0.0026\n",
            "Epoch 13/50\n",
            "235/235 [==============================] - 34s 145ms/step - loss: 0.0027 - mse: 0.0027 - val_loss: 0.0026 - val_mse: 0.0026\n",
            "Epoch 14/50\n",
            "235/235 [==============================] - 34s 145ms/step - loss: 0.0027 - mse: 0.0027 - val_loss: 0.0025 - val_mse: 0.0025\n",
            "Epoch 15/50\n",
            "235/235 [==============================] - 34s 145ms/step - loss: 0.0026 - mse: 0.0026 - val_loss: 0.0025 - val_mse: 0.0025\n",
            "Epoch 16/50\n",
            "235/235 [==============================] - 34s 145ms/step - loss: 0.0026 - mse: 0.0026 - val_loss: 0.0025 - val_mse: 0.0025\n",
            "Epoch 17/50\n",
            "235/235 [==============================] - 34s 144ms/step - loss: 0.0025 - mse: 0.0025 - val_loss: 0.0024 - val_mse: 0.0024\n",
            "Epoch 18/50\n",
            "235/235 [==============================] - 34s 144ms/step - loss: 0.0025 - mse: 0.0025 - val_loss: 0.0024 - val_mse: 0.0024\n",
            "Epoch 19/50\n",
            "235/235 [==============================] - 34s 144ms/step - loss: 0.0025 - mse: 0.0025 - val_loss: 0.0024 - val_mse: 0.0024\n",
            "Epoch 20/50\n",
            "235/235 [==============================] - 34s 144ms/step - loss: 0.0024 - mse: 0.0024 - val_loss: 0.0023 - val_mse: 0.0023\n",
            "Epoch 21/50\n",
            "235/235 [==============================] - 34s 143ms/step - loss: 0.0024 - mse: 0.0024 - val_loss: 0.0023 - val_mse: 0.0023\n",
            "Epoch 22/50\n",
            "235/235 [==============================] - 34s 143ms/step - loss: 0.0024 - mse: 0.0024 - val_loss: 0.0023 - val_mse: 0.0023\n",
            "Epoch 23/50\n",
            "235/235 [==============================] - 34s 143ms/step - loss: 0.0024 - mse: 0.0024 - val_loss: 0.0023 - val_mse: 0.0023\n",
            "Epoch 24/50\n",
            "235/235 [==============================] - 34s 144ms/step - loss: 0.0024 - mse: 0.0024 - val_loss: 0.0023 - val_mse: 0.0023\n",
            "Epoch 25/50\n",
            "235/235 [==============================] - 33s 141ms/step - loss: 0.0023 - mse: 0.0023 - val_loss: 0.0023 - val_mse: 0.0023\n",
            "Epoch 26/50\n",
            "235/235 [==============================] - 33s 140ms/step - loss: 0.0023 - mse: 0.0023 - val_loss: 0.0022 - val_mse: 0.0022\n",
            "Epoch 27/50\n",
            "235/235 [==============================] - 33s 140ms/step - loss: 0.0023 - mse: 0.0023 - val_loss: 0.0022 - val_mse: 0.0022\n",
            "Epoch 28/50\n",
            "235/235 [==============================] - 33s 139ms/step - loss: 0.0023 - mse: 0.0023 - val_loss: 0.0022 - val_mse: 0.0022\n",
            "Epoch 29/50\n",
            "235/235 [==============================] - 33s 140ms/step - loss: 0.0023 - mse: 0.0023 - val_loss: 0.0022 - val_mse: 0.0022\n",
            "Epoch 30/50\n",
            "235/235 [==============================] - 33s 140ms/step - loss: 0.0023 - mse: 0.0023 - val_loss: 0.0022 - val_mse: 0.0022\n",
            "Epoch 31/50\n",
            "235/235 [==============================] - 33s 140ms/step - loss: 0.0023 - mse: 0.0023 - val_loss: 0.0022 - val_mse: 0.0022\n",
            "Epoch 32/50\n",
            "235/235 [==============================] - 33s 139ms/step - loss: 0.0022 - mse: 0.0022 - val_loss: 0.0022 - val_mse: 0.0022\n",
            "Epoch 33/50\n",
            "235/235 [==============================] - 33s 139ms/step - loss: 0.0022 - mse: 0.0022 - val_loss: 0.0022 - val_mse: 0.0022\n",
            "Epoch 34/50\n",
            "235/235 [==============================] - 33s 138ms/step - loss: 0.0022 - mse: 0.0022 - val_loss: 0.0022 - val_mse: 0.0022\n",
            "Epoch 35/50\n",
            "235/235 [==============================] - 33s 139ms/step - loss: 0.0022 - mse: 0.0022 - val_loss: 0.0021 - val_mse: 0.0021\n",
            "Epoch 36/50\n",
            "235/235 [==============================] - 33s 139ms/step - loss: 0.0022 - mse: 0.0022 - val_loss: 0.0021 - val_mse: 0.0021\n",
            "Epoch 37/50\n",
            "235/235 [==============================] - 33s 138ms/step - loss: 0.0022 - mse: 0.0022 - val_loss: 0.0021 - val_mse: 0.0021\n",
            "Epoch 38/50\n",
            "235/235 [==============================] - 33s 138ms/step - loss: 0.0022 - mse: 0.0022 - val_loss: 0.0021 - val_mse: 0.0021\n",
            "Epoch 39/50\n",
            "235/235 [==============================] - 33s 139ms/step - loss: 0.0022 - mse: 0.0022 - val_loss: 0.0021 - val_mse: 0.0021\n",
            "Epoch 40/50\n",
            "235/235 [==============================] - 33s 139ms/step - loss: 0.0022 - mse: 0.0022 - val_loss: 0.0021 - val_mse: 0.0021\n",
            "Epoch 41/50\n",
            "235/235 [==============================] - 33s 139ms/step - loss: 0.0022 - mse: 0.0022 - val_loss: 0.0021 - val_mse: 0.0021\n",
            "Epoch 42/50\n",
            "235/235 [==============================] - 33s 140ms/step - loss: 0.0022 - mse: 0.0022 - val_loss: 0.0021 - val_mse: 0.0021\n",
            "Epoch 43/50\n",
            "235/235 [==============================] - 33s 139ms/step - loss: 0.0022 - mse: 0.0022 - val_loss: 0.0021 - val_mse: 0.0021\n",
            "Epoch 44/50\n",
            "235/235 [==============================] - 33s 142ms/step - loss: 0.0022 - mse: 0.0022 - val_loss: 0.0021 - val_mse: 0.0021\n",
            "Epoch 45/50\n",
            "235/235 [==============================] - 34s 144ms/step - loss: 0.0022 - mse: 0.0022 - val_loss: 0.0021 - val_mse: 0.0021\n",
            "Epoch 46/50\n",
            "235/235 [==============================] - 34s 143ms/step - loss: 0.0021 - mse: 0.0021 - val_loss: 0.0021 - val_mse: 0.0021\n",
            "Epoch 47/50\n",
            "235/235 [==============================] - 34s 144ms/step - loss: 0.0022 - mse: 0.0022 - val_loss: 0.0021 - val_mse: 0.0021\n",
            "Epoch 48/50\n",
            "235/235 [==============================] - 34s 143ms/step - loss: 0.0021 - mse: 0.0021 - val_loss: 0.0021 - val_mse: 0.0021\n",
            "Epoch 49/50\n",
            "235/235 [==============================] - 34s 143ms/step - loss: 0.0021 - mse: 0.0021 - val_loss: 0.0021 - val_mse: 0.0021\n",
            "Epoch 50/50\n",
            "235/235 [==============================] - 34s 143ms/step - loss: 0.0021 - mse: 0.0021 - val_loss: 0.0021 - val_mse: 0.0021\n"
          ],
          "name": "stdout"
        }
      ]
    },
    {
      "cell_type": "code",
      "metadata": {
        "id": "wn73SkqlU5kW"
      },
      "source": [
        ""
      ],
      "execution_count": 75,
      "outputs": []
    }
  ]
}