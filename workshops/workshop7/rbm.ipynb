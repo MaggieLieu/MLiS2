{
  "nbformat": 4,
  "nbformat_minor": 0,
  "metadata": {
    "colab": {
      "name": "rbm.ipynb",
      "provenance": [],
      "authorship_tag": "ABX9TyN2iFGMQGqnbK/01/Z0lzJM",
      "include_colab_link": true
    },
    "kernelspec": {
      "name": "python3",
      "display_name": "Python 3"
    }
  },
  "cells": [
    {
      "cell_type": "markdown",
      "metadata": {
        "id": "view-in-github",
        "colab_type": "text"
      },
      "source": [
        "<a href=\"https://colab.research.google.com/github/adammoss/MLiS2/blob/master/workshops/workshop7/rbm.ipynb\" target=\"_parent\"><img src=\"https://colab.research.google.com/assets/colab-badge.svg\" alt=\"Open In Colab\"/></a>"
      ]
    },
    {
      "cell_type": "code",
      "metadata": {
        "id": "oCBZYFu0KxGu"
      },
      "source": [
        "try:\n",
        "  # %tensorflow_version only exists in Colab.\n",
        "  %tensorflow_version 2.x\n",
        "except Exception:\n",
        "  pass"
      ],
      "execution_count": 30,
      "outputs": []
    },
    {
      "cell_type": "code",
      "metadata": {
        "id": "r1U38FH2KyZ9"
      },
      "source": [
        "import tensorflow as tf\n",
        "import numpy as np\n",
        "import matplotlib.pyplot as plt"
      ],
      "execution_count": 31,
      "outputs": []
    },
    {
      "cell_type": "code",
      "metadata": {
        "id": "pBjBbpWmK7B4"
      },
      "source": [
        "tf.random.set_seed(1)"
      ],
      "execution_count": 32,
      "outputs": []
    },
    {
      "cell_type": "code",
      "metadata": {
        "id": "OF8ELwHrLLGT",
        "colab": {
          "base_uri": "https://localhost:8080/"
        },
        "outputId": "6b2a1358-7e2b-417b-b8c7-abb9718ba6af"
      },
      "source": [
        "print(tf.__version__)"
      ],
      "execution_count": 33,
      "outputs": [
        {
          "output_type": "stream",
          "text": [
            "2.4.1\n"
          ],
          "name": "stdout"
        }
      ]
    },
    {
      "cell_type": "code",
      "metadata": {
        "id": "aPyNipA-LO3s"
      },
      "source": [
        "class RBM:\n",
        "    \n",
        "  def __init__(self, input_size, hidden_size):\n",
        "    \n",
        "    self._input_size = input_size # Size of visible layer\n",
        "    self._hidden_size = hidden_size # Size of hidden layer\n",
        "          \n",
        "    # Initialise weights to small random values\n",
        "    self.w = tf.random.normal((input_size, hidden_size), stddev=0.01, dtype=np.float32)\n",
        "    #self.w = tf.random.normal((input_size, hidden_size), \n",
        "    #                          stddev=2*np.sqrt(1/(input_size + hidden_size)), \n",
        "    #                          dtype=np.float32)\n",
        "    self.hb = tf.zeros([hidden_size], np.float32)\n",
        "    self.vb = tf.zeros([input_size], np.float32)\n",
        "\n",
        "  def sample_prob(self, probs):\n",
        "    return tf.nn.relu(tf.sign(probs - tf.random.uniform(tf.shape(probs))))\n",
        "\n",
        "  def prob_h_given_v(self, v):\n",
        "    return tf.nn.sigmoid(tf.matmul(v, self.w) + self.hb)\n",
        "\n",
        "  def sample_h_given_v(self, v):\n",
        "    prob = self.prob_h_given_v(v)\n",
        "    return self.sample_prob(prob), prob\n",
        "\n",
        "  def prob_v_given_h(self, h):\n",
        "    return tf.nn.sigmoid(tf.matmul(h, tf.transpose(self.w)) + self.vb)\n",
        "\n",
        "  def sample_v_given_h(self, h):\n",
        "    prob = self.prob_v_given_h(h)\n",
        "    return self.sample_prob(prob), prob"
      ],
      "execution_count": 34,
      "outputs": []
    },
    {
      "cell_type": "markdown",
      "metadata": {
        "id": "mlQG5_ZkiXLU"
      },
      "source": [
        "Read in MNIST data, convert to binary units andf flatten"
      ]
    },
    {
      "cell_type": "code",
      "metadata": {
        "id": "r_vWyL-GLtCR"
      },
      "source": [
        "(train_data, _), (test_data, _) =  tf.keras.datasets.mnist.load_data()\n",
        "train_data = np.round(train_data/ 255)\n",
        "test_data = np.round(test_data/ 255)\n",
        "train_data = np.reshape(train_data, (train_data.shape[0], train_data.shape[1] * train_data.shape[2])).astype(np.float32)\n",
        "test_data = np.reshape(test_data, (test_data.shape[0], test_data.shape[1] * test_data.shape[2])).astype(np.float32)"
      ],
      "execution_count": 35,
      "outputs": []
    },
    {
      "cell_type": "code",
      "metadata": {
        "id": "mUQ4JM_Un_Ky"
      },
      "source": [
        "BATCH_SIZE = 100"
      ],
      "execution_count": 36,
      "outputs": []
    },
    {
      "cell_type": "code",
      "metadata": {
        "id": "V_0cLOIrn3Gb"
      },
      "source": [
        "dataset = tf.data.Dataset.from_tensor_slices(train_data).batch(BATCH_SIZE).shuffle(10000)"
      ],
      "execution_count": 37,
      "outputs": []
    },
    {
      "cell_type": "code",
      "metadata": {
        "id": "BmRUqP9TpNnS"
      },
      "source": [
        "input_size = train_data.shape[1]\n",
        "rbm = RBM(input_size, 100)"
      ],
      "execution_count": 38,
      "outputs": []
    },
    {
      "cell_type": "code",
      "metadata": {
        "id": "ZZBTL3Ob6Qf8"
      },
      "source": [
        "EPOCHS = 10\n",
        "LEARNING_RATE = 0.01\n",
        "k = 10"
      ],
      "execution_count": 39,
      "outputs": []
    },
    {
      "cell_type": "code",
      "metadata": {
        "id": "aGxFZHstn2cx",
        "colab": {
          "base_uri": "https://localhost:8080/"
        },
        "outputId": "e9fa1873-8ac7-4887-a420-a008d6ab1f95"
      },
      "source": [
        "loss = []\n",
        "for epoch in range(EPOCHS):\n",
        "  err = 0\n",
        "  for batch in dataset:\n",
        "    # Perform CD-k\n",
        "    h0, h0_prob = rbm.sample_h_given_v(batch)\n",
        "    v, v_prob = rbm.sample_v_given_h(h0)\n",
        "    h, h_prob = rbm.sample_h_given_v(v)\n",
        "    for i in range(k-1):\n",
        "      v, v_prob = rbm.sample_v_given_h(h)\n",
        "      h, h_prob = rbm.sample_h_given_v(v)\n",
        "    # Calculate gradients \n",
        "    positive_grad = tf.matmul(tf.transpose(batch), h0_prob)\n",
        "    negative_grad = tf.matmul(tf.transpose(v), h_prob)\n",
        "    #Update parameters\n",
        "    rbm.w += LEARNING_RATE *(positive_grad - negative_grad) / BATCH_SIZE\n",
        "    rbm.vb += LEARNING_RATE * tf.reduce_mean(batch - v, 0)\n",
        "    rbm.hb += LEARNING_RATE * tf.reduce_mean(h0 - h, 0)\n",
        "    #Find the reconstruction error\n",
        "    err += tf.math.reduce_sum(tf.square(batch - v))\n",
        "  print ('Epoch: %d' % epoch,'reconstruction error: %f' % err)\n",
        "  loss.append(err)      "
      ],
      "execution_count": 40,
      "outputs": [
        {
          "output_type": "stream",
          "text": [
            "Epoch: 0 reconstruction error: 11310086.000000\n",
            "Epoch: 1 reconstruction error: 7353512.000000\n",
            "Epoch: 2 reconstruction error: 6655676.000000\n",
            "Epoch: 3 reconstruction error: 6330183.000000\n",
            "Epoch: 4 reconstruction error: 6089821.000000\n",
            "Epoch: 5 reconstruction error: 5899212.000000\n",
            "Epoch: 6 reconstruction error: 5744017.000000\n",
            "Epoch: 7 reconstruction error: 5622232.000000\n",
            "Epoch: 8 reconstruction error: 5515195.000000\n",
            "Epoch: 9 reconstruction error: 5417745.000000\n"
          ],
          "name": "stdout"
        }
      ]
    },
    {
      "cell_type": "code",
      "metadata": {
        "id": "vi7mdQpx8GW2",
        "colab": {
          "base_uri": "https://localhost:8080/",
          "height": 290
        },
        "outputId": "a2689aa2-11db-4e2d-9c09-7f9bc2f593c5"
      },
      "source": [
        "plt.plot(loss)\n",
        "plt.xlabel('Epochs')\n",
        "plt.ylabel('Reconstruction error')\n",
        "plt.show()"
      ],
      "execution_count": 41,
      "outputs": [
        {
          "output_type": "display_data",
          "data": {
            "image/png": "[encoded data removed]",
            "text/plain": [
              "<Figure size 432x288 with 1 Axes>"
            ]
          },
          "metadata": {
            "tags": [],
            "needs_background": "light"
          }
        }
      ]
    },
    {
      "cell_type": "code",
      "metadata": {
        "id": "4fUgAA3b8Wtk",
        "colab": {
          "base_uri": "https://localhost:8080/",
          "height": 1000
        },
        "outputId": "3dc68fd3-c5f7-4d66-fcff-4fd7a0252525"
      },
      "source": [
        "for v in dataset.take(1):\n",
        "  for step in range(100):\n",
        "    if step % 10 == 0:\n",
        "      fig, axes = plt.subplots(1, 5, sharex=True, sharey=True, figsize=(20,4))  \n",
        "      for i in range(5):\n",
        "        axes[i].imshow(tf.reshape(v[i],[28, 28]))\n",
        "        axes[i].get_xaxis().set_visible(False)\n",
        "        axes[i].get_yaxis().set_visible(False)\n",
        "      plt.show()\n",
        "    h, _ = rbm.sample_h_given_v(v)\n",
        "    v, _ = rbm.sample_v_given_h(h)"
      ],
      "execution_count": 42,
      "outputs": [
        {
          "output_type": "display_data",
          "data": {
            "image/png": "[encoded data removed]",
            "text/plain": [
              "<Figure size 1440x288 with 5 Axes>"
            ]
          },
          "metadata": {
            "tags": [],
            "needs_background": "light"
          }
        },
        {
          "output_type": "display_data",
          "data": {
            "image/png": "[encoded data removed]",
            "text/plain": [
              "<Figure size 1440x288 with 5 Axes>"
            ]
          },
          "metadata": {
            "tags": [],
            "needs_background": "light"
          }
        },
        {
          "output_type": "display_data",
          "data": {
            "image/png": "[encoded data removed]",
            "text/plain": [
              "<Figure size 1440x288 with 5 Axes>"
            ]
          },
          "metadata": {
            "tags": [],
            "needs_background": "light"
          }
        },
        {
          "output_type": "display_data",
          "data": {
            "image/png": "[encoded data removed]",
            "text/plain": [
              "<Figure size 1440x288 with 5 Axes>"
            ]
          },
          "metadata": {
            "tags": [],
            "needs_background": "light"
          }
        },
        {
          "output_type": "display_data",
          "data": {
            "image/png": "[encoded data removed]",
            "text/plain": [
              "<Figure size 1440x288 with 5 Axes>"
            ]
          },
          "metadata": {
            "tags": [],
            "needs_background": "light"
          }
        },
        {
          "output_type": "display_data",
          "data": {
            "image/png": "[encoded data removed]",
            "text/plain": [
              "<Figure size 1440x288 with 5 Axes>"
            ]
          },
          "metadata": {
            "tags": [],
            "needs_background": "light"
          }
        },
        {
          "output_type": "display_data",
          "data": {
            "image/png": "[encoded data removed]",
            "text/plain": [
              "<Figure size 1440x288 with 5 Axes>"
            ]
          },
          "metadata": {
            "tags": [],
            "needs_background": "light"
          }
        },
        {
          "output_type": "display_data",
          "data": {
            "image/png": "[encoded data removed]",
            "text/plain": [
              "<Figure size 1440x288 with 5 Axes>"
            ]
          },
          "metadata": {
            "tags": [],
            "needs_background": "light"
          }
        },
        {
          "output_type": "display_data",
          "data": {
            "image/png": "[encoded data removed]",
            "text/plain": [
              "<Figure size 1440x288 with 5 Axes>"
            ]
          },
          "metadata": {
            "tags": [],
            "needs_background": "light"
          }
        },
        {
          "output_type": "display_data",
          "data": {
            "image/png": "[encoded data removed]",
            "text/plain": [
              "<Figure size 1440x288 with 5 Axes>"
            ]
          },
          "metadata": {
            "tags": [],
            "needs_background": "light"
          }
        }
      ]
    },
    {
      "cell_type": "code",
      "metadata": {
        "id": "SEo9s1Y7N6rA"
      },
      "source": [
        ""
      ],
      "execution_count": 42,
      "outputs": []
    }
  ]
}