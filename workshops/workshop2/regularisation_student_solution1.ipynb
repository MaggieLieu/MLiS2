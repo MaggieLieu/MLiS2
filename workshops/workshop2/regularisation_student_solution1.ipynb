{
 "cells": [
  {
   "cell_type": "markdown",
   "metadata": {
    "id": "f9lgu7n44eFs"
   },
   "source": [
    "**Regularisation**\n",
    "\n",
    "In this example you are given a dataset (MNIST) with a limited number of training examples (only 1000 compared to the usual 60,000). \n",
    "\n",
    "Your goal is to implement regularisation methods to achive the **lowest possible test loss using this dataset**. \n",
    "\n",
    "You should consider methods given in the lectures including:\n",
    "\n",
    "*   Data augmentation\n",
    "*   Early stopping\n",
    "*   L1/L2 penalty norms\n",
    "*   Dropout\n",
    "\n",
    "You are free to change the network architecture and model complexity, but the main purpose of the workshop is to investigate regularisation (next week you will look at CNN architectures in detail). \n",
    "\n",
    "You are also free to change the choice of optimiser, and other hyper-parameters such as the batch size.  \n"
   ]
  },
  {
   "cell_type": "code",
   "execution_count": 3,
   "metadata": {
    "id": "cNviuTwum6vs"
   },
   "outputs": [],
   "source": [
    "try:\n",
    "  # %tensorflow_version only exists in Colab.\n",
    "  %tensorflow_version 2.x\n",
    "except Exception:\n",
    "  pass"
   ]
  },
  {
   "cell_type": "code",
   "execution_count": 4,
   "metadata": {
    "id": "ARZRYjHQnE-0"
   },
   "outputs": [],
   "source": [
    "from __future__ import absolute_import, division, print_function, unicode_literals\n",
    "\n",
    "import tensorflow as tf\n",
    "from tensorflow.python.keras import regularizers\n",
    "\n",
    "from tensorflow.keras.layers import Dense, Flatten, Conv2D, Dropout, BatchNormalization, MaxPooling2D\n",
    "from tensorflow.keras import Model\n",
    "from tensorflow.keras.preprocessing.image import ImageDataGenerator\n",
    "\n",
    "import matplotlib.pyplot as plt\n",
    "\n",
    "import numpy as np"
   ]
  },
  {
   "cell_type": "code",
   "execution_count": 5,
   "metadata": {
    "id": "7I-MxTxAnH2d"
   },
   "outputs": [],
   "source": [
    "tf.random.set_seed(1)"
   ]
  },
  {
   "cell_type": "code",
   "execution_count": 6,
   "metadata": {
    "colab": {
     "base_uri": "https://localhost:8080/"
    },
    "id": "cxO576eJnMXN",
    "outputId": "eb98d659-c10a-45a9-c0de-cd1d5fc39661"
   },
   "outputs": [
    {
     "name": "stdout",
     "output_type": "stream",
     "text": [
      "2.4.1\n"
     ]
    }
   ],
   "source": [
    "print(tf.__version__)"
   ]
  },
  {
   "cell_type": "markdown",
   "metadata": {
    "id": "q4F_HTQpnvSk"
   },
   "source": [
    "First load the MNIST dataset and add a channels dimension (channels last convention)"
   ]
  },
  {
   "cell_type": "code",
   "execution_count": 7,
   "metadata": {
    "colab": {
     "base_uri": "https://localhost:8080/"
    },
    "id": "Twdc-t9FnN_9",
    "outputId": "80fdfa09-b62f-4beb-d947-c1430384a70a"
   },
   "outputs": [
    {
     "name": "stdout",
     "output_type": "stream",
     "text": [
      "Downloading data from https://storage.googleapis.com/tensorflow/tf-keras-datasets/mnist.npz\n",
      "11493376/11490434 [==============================] - 0s 0us/step\n"
     ]
    }
   ],
   "source": [
    "mnist = tf.keras.datasets.mnist\n",
    "(x_train, y_train), (x_test, y_test) = mnist.load_data()\n",
    "\n",
    "x_train = x_train[..., tf.newaxis].astype(np.float32)\n",
    "x_test = x_test[..., tf.newaxis].astype(np.float32)\n",
    "\n",
    "img_rows = x_train.shape[1]\n",
    "img_cols = x_train.shape[2]"
   ]
  },
  {
   "cell_type": "markdown",
   "metadata": {
    "id": "IEsWYkNz5Po7"
   },
   "source": [
    "Let's use a much smaller training dataset of 1000 examples so overfitting is more problematic"
   ]
  },
  {
   "cell_type": "code",
   "execution_count": 8,
   "metadata": {
    "colab": {
     "base_uri": "https://localhost:8080/"
    },
    "id": "Qzt-HoIo4yks",
    "outputId": "1ed26243-ec3b-4965-fb7d-2633044cc9b3"
   },
   "outputs": [
    {
     "name": "stdout",
     "output_type": "stream",
     "text": [
      "(1000, 28, 28, 1)\n",
      "(10000, 28, 28, 1)\n"
     ]
    }
   ],
   "source": [
    "n_train = 1000\n",
    "x_train = x_train[0:n_train, :]\n",
    "y_train = y_train[0:n_train]\n",
    "\n",
    "print(x_train.shape)\n",
    "print(x_test.shape)"
   ]
  },
  {
   "cell_type": "code",
   "execution_count": 9,
   "metadata": {
    "id": "x2JSWYGKjsPh"
   },
   "outputs": [],
   "source": [
    "def plotImages(images_arr):\n",
    "    fig, axes = plt.subplots(1, 5, figsize=(15, 15))\n",
    "    axes = axes.flatten()\n",
    "    for img, ax in zip( images_arr, axes):\n",
    "        ax.imshow(np.squeeze(img))\n",
    "        ax.axis('off')\n",
    "    plt.tight_layout()\n",
    "    plt.show()"
   ]
  },
  {
   "cell_type": "markdown",
   "metadata": {
    "id": "oDfQh4AfoBAH"
   },
   "source": [
    "Let's visualise several training examples - to do this we use the keras ImageDataGenerator. We rescale images by 1/255 to normalise them in the range (0, 1)"
   ]
  },
  {
   "cell_type": "code",
   "execution_count": 10,
   "metadata": {
    "colab": {
     "base_uri": "https://localhost:8080/",
     "height": 186
    },
    "id": "fuOz9BopjZPq",
    "outputId": "6a3dab12-edb5-4776-b3ad-b08574dc69e2"
   },
   "outputs": [
    {
     "data": {
      "image/png": "[encoded data removed]",
      "text/plain": [
       "<Figure size 1080x1080 with 5 Axes>"
      ]
     },
     "metadata": {
      "needs_background": "light",
      "tags": []
     },
     "output_type": "display_data"
    }
   ],
   "source": [
    "image_generator = ImageDataGenerator(rescale=1./255) \n",
    "data_gen = image_generator.flow(x_train, y_train, batch_size=32) \n",
    "sample_images, sample_labels = next(data_gen)\n",
    "plotImages(sample_images[:5])"
   ]
  },
  {
   "cell_type": "markdown",
   "metadata": {
    "id": "H8bStvJVoVlj"
   },
   "source": [
    "One regularisation method to deal with over-fitting is data augmentation. The image generator can apply various transformations to data - here we apply a random rotation of upto 20 degrees and visualise the same training example with different augmentations"
   ]
  },
  {
   "cell_type": "code",
   "execution_count": 11,
   "metadata": {
    "colab": {
     "base_uri": "https://localhost:8080/",
     "height": 186
    },
    "id": "iz28zlncmIiP",
    "outputId": "080d550f-ae72-447e-deed-c5d989a8ca97"
   },
   "outputs": [
    {
     "data": {
      "image/png": "[encoded data removed]",
      "text/plain": [
       "<Figure size 1080x1080 with 5 Axes>"
      ]
     },
     "metadata": {
      "needs_background": "light",
      "tags": []
     },
     "output_type": "display_data"
    }
   ],
   "source": [
    "image_generator = ImageDataGenerator(rescale=1./255, \n",
    "                                     rotation_range=20) \n",
    "data_gen = image_generator.flow(x_train, y_train, batch_size=32) \n",
    "augmented_images = [data_gen[0][0][0] for i in range(5)]\n",
    "plotImages(augmented_images)"
   ]
  },
  {
   "cell_type": "markdown",
   "metadata": {
    "id": "mIE6-wlA3J4h"
   },
   "source": [
    "Define a basic CNN with 32 convolutional filters using a 3x3 kernel, followed by a dense fully connected layer of 128 units and an output layer of 10 units with softmax activation "
   ]
  },
  {
   "cell_type": "code",
   "execution_count": 13,
   "metadata": {
    "id": "ZKolHZQUL8-4"
   },
   "outputs": [],
   "source": [
    "class BasicCNN(Model):\n",
    "  def __init__(self):\n",
    "    super(BasicCNN, self).__init__()\n",
    "    self.conv1 = Conv2D(32, 3, activation='relu', kernel_regularizer=regularizers.l2(0.01))\n",
    "    self.conv2 = Conv2D(64, (3, 3), activation='relu', kernel_regularizer=regularizers.l2(0.01))\n",
    "    self.drop1 = Dropout(0.25)\n",
    "    self.flatten = Flatten()\n",
    "    self.batch1 = BatchNormalization()\n",
    "    self.d1 = Dense(128, activation='relu', kernel_regularizer=regularizers.l2(0.01))\n",
    "    self.drop2 = Dropout(0.25)\n",
    "    self.batch2 = BatchNormalization()\n",
    "    self.d2 = Dense(10, activation='softmax', kernel_regularizer=regularizers.l2(0.01))\n",
    "\n",
    "  def call(self, x):\n",
    "    x = self.conv1(x)\n",
    "    x = self.conv2(x)\n",
    "    x = self.drop1(x)\n",
    "    x = self.flatten(x)\n",
    "    x = self.batch1(x)\n",
    "    x = self.d1(x)\n",
    "    x = self.drop2(x)\n",
    "    x = self.batch2(x)\n",
    "    return self.d2(x)"
   ]
  },
  {
   "cell_type": "markdown",
   "metadata": {
    "id": "BuhNDi134B2G"
   },
   "source": [
    "Main training routine - uses the more detailed Gradient Tape API to iterate over the dataset and update the weights"
   ]
  },
  {
   "cell_type": "code",
   "execution_count": 14,
   "metadata": {
    "id": "MZH8jdqKohiU"
   },
   "outputs": [],
   "source": [
    "def trainer(cls, train_image_generator, test_image_generator, \n",
    "            verbose=False, batch_size=32, max_epochs=5):\n",
    "  \n",
    "  model = cls()\n",
    "\n",
    "  train_data_gen = train_image_generator.flow(x_train, y_train, \n",
    "                                              batch_size=batch_size) \n",
    "\n",
    "  test_data_gen = test_image_generator.flow(x_test, y_test, \n",
    "                                              batch_size=batch_size) \n",
    "\n",
    "  loss_object = tf.keras.losses.SparseCategoricalCrossentropy()\n",
    "  optimizer = tf.keras.optimizers.Adam()\n",
    "\n",
    "  train_loss = tf.keras.metrics.Mean(name='train_loss')\n",
    "  train_accuracy = tf.keras.metrics.SparseCategoricalAccuracy(\n",
    "      name='train_accuracy')\n",
    "\n",
    "  test_loss = tf.keras.metrics.Mean(name='test_loss')\n",
    "  test_accuracy = tf.keras.metrics.SparseCategoricalAccuracy(\n",
    "      name='test_accuracy')\n",
    "\n",
    "  @tf.function\n",
    "  def train_step(images, labels):\n",
    "    with tf.GradientTape() as tape:\n",
    "      predictions = model(images, training=True)\n",
    "      loss = loss_object(labels, predictions)\n",
    "    gradients = tape.gradient(loss, model.trainable_variables)\n",
    "    optimizer.apply_gradients(zip(gradients, model.trainable_variables))\n",
    "    train_loss(loss)\n",
    "    train_accuracy(labels, predictions)\n",
    "\n",
    "  @tf.function\n",
    "  def test_step(images, labels):\n",
    "    predictions = model(images, training=False)\n",
    "    t_loss = loss_object(labels, predictions)\n",
    "    test_loss(t_loss)\n",
    "    test_accuracy(labels, predictions)\n",
    "\n",
    "  for epoch in range(max_epochs):\n",
    "    # Reset the metrics at the start of the next epoch\n",
    "    train_loss.reset_states()\n",
    "    train_accuracy.reset_states()\n",
    "    test_loss.reset_states()\n",
    "    test_accuracy.reset_states()\n",
    "\n",
    "    batches = 0\n",
    "    for images, labels in train_data_gen:\n",
    "      #es = EarlyStopping(monitor='val_loss', mode='min', verbose=1)\n",
    "      train_step(images, labels)\n",
    "      batches += 1\n",
    "      if batches >= len(x_train) / batch_size:\n",
    "        break\n",
    "\n",
    "    batches = 0\n",
    "    for images, labels in test_data_gen:\n",
    "      test_step(images, labels)\n",
    "      batches += 1\n",
    "      if batches >= len(x_test) / batch_size:\n",
    "        break\n",
    "\n",
    "    if verbose:\n",
    "      template = 'Epoch {}, Loss: {}, Accuracy: {}, Test Loss: {}, Test Accuracy: {}'\n",
    "      print(template.format(epoch+1,\n",
    "                            train_loss.result(),\n",
    "                            train_accuracy.result()*100,\n",
    "                            test_loss.result(),\n",
    "                            test_accuracy.result()*100))\n",
    "    \n",
    "  return test_loss.result().numpy()"
   ]
  },
  {
   "cell_type": "markdown",
   "metadata": {
    "id": "BBSBEZftgDsL"
   },
   "source": [
    "Baseline run with no regularisation"
   ]
  },
  {
   "cell_type": "code",
   "execution_count": null,
   "metadata": {
    "colab": {
     "base_uri": "https://localhost:8080/"
    },
    "id": "LkemC6SvTLOH",
    "outputId": "af935ff0-2cfd-49a0-faf7-669b7b94969e"
   },
   "outputs": [
    {
     "name": "stdout",
     "output_type": "stream",
     "text": [
      "Epoch 1, Loss: 0.9168705940246582, Accuracy: 71.69999694824219, Test Loss: 0.5159050226211548, Test Accuracy: 84.04000091552734\n",
      "Epoch 2, Loss: 0.3103785216808319, Accuracy: 90.10000610351562, Test Loss: 0.5231049060821533, Test Accuracy: 84.11000061035156\n",
      "Epoch 3, Loss: 0.15446731448173523, Accuracy: 95.70000457763672, Test Loss: 0.473871111869812, Test Accuracy: 86.12999725341797\n",
      "Epoch 4, Loss: 0.09344244003295898, Accuracy: 97.0999984741211, Test Loss: 0.41211143136024475, Test Accuracy: 87.52999877929688\n",
      "Epoch 5, Loss: 0.042409107089042664, Accuracy: 99.5999984741211, Test Loss: 0.3940218389034271, Test Accuracy: 89.20999908447266\n",
      "Epoch 6, Loss: 0.016148187220096588, Accuracy: 99.9000015258789, Test Loss: 0.3967156708240509, Test Accuracy: 89.61000061035156\n",
      "Epoch 7, Loss: 0.008472408168017864, Accuracy: 100.0, Test Loss: 0.4250642955303192, Test Accuracy: 89.3499984741211\n",
      "Epoch 8, Loss: 0.004662804771214724, Accuracy: 100.0, Test Loss: 0.4301902651786804, Test Accuracy: 89.44000244140625\n",
      "Epoch 9, Loss: 0.0030735055916011333, Accuracy: 100.0, Test Loss: 0.42829227447509766, Test Accuracy: 89.5\n",
      "Epoch 10, Loss: 0.0023728644009679556, Accuracy: 100.0, Test Loss: 0.4468526244163513, Test Accuracy: 89.52000427246094\n",
      "Epoch 11, Loss: 0.0019924503285437822, Accuracy: 100.0, Test Loss: 0.4467124044895172, Test Accuracy: 89.52000427246094\n",
      "Epoch 12, Loss: 0.0016691840719431639, Accuracy: 100.0, Test Loss: 0.4531443119049072, Test Accuracy: 89.61000061035156\n",
      "Epoch 13, Loss: 0.0014268991071730852, Accuracy: 100.0, Test Loss: 0.458042711019516, Test Accuracy: 89.59000396728516\n",
      "Epoch 14, Loss: 0.0012043504975736141, Accuracy: 100.0, Test Loss: 0.4691559076309204, Test Accuracy: 89.56000518798828\n",
      "Epoch 15, Loss: 0.0010890256380662322, Accuracy: 100.0, Test Loss: 0.4699127972126007, Test Accuracy: 89.55000305175781\n",
      "Epoch 16, Loss: 0.0009436781401745975, Accuracy: 100.0, Test Loss: 0.4748922288417816, Test Accuracy: 89.56999969482422\n",
      "Epoch 17, Loss: 0.0008295542211271822, Accuracy: 100.0, Test Loss: 0.47784551978111267, Test Accuracy: 89.61000061035156\n",
      "Epoch 18, Loss: 0.000762925308663398, Accuracy: 100.0, Test Loss: 0.48657646775245667, Test Accuracy: 89.56999969482422\n",
      "Epoch 19, Loss: 0.0006929394439794123, Accuracy: 100.0, Test Loss: 0.4863775074481964, Test Accuracy: 89.63999938964844\n",
      "Epoch 20, Loss: 0.0006179808988235891, Accuracy: 100.0, Test Loss: 0.49082887172698975, Test Accuracy: 89.61000061035156\n",
      "Final test loss: 0.49082887\n"
     ]
    }
   ],
   "source": [
    "train_image_generator = ImageDataGenerator(rescale=1./255) \n",
    "test_image_generator = ImageDataGenerator(rescale=1./255) \n",
    "final_test_loss = trainer(BasicCNN, train_image_generator, test_image_generator, \n",
    "                          verbose=True, max_epochs=20)\n",
    "print('Final test loss:', final_test_loss)"
   ]
  },
  {
   "cell_type": "markdown",
   "metadata": {
    "id": "EAyI4Znw3r2T"
   },
   "source": [
    "Adding image Augmentation"
   ]
  },
  {
   "cell_type": "code",
   "execution_count": null,
   "metadata": {
    "colab": {
     "base_uri": "https://localhost:8080/"
    },
    "id": "Lx1vid62esyU",
    "outputId": "1d3cc4c6-d2e3-455c-c224-df924e767f8c"
   },
   "outputs": [
    {
     "name": "stdout",
     "output_type": "stream",
     "text": [
      "Epoch 1, Loss: 1.1747320890426636, Accuracy: 61.099998474121094, Test Loss: 0.5275986790657043, Test Accuracy: 83.09000396728516\n",
      "Epoch 2, Loss: 0.49886056780815125, Accuracy: 84.0, Test Loss: 0.44402480125427246, Test Accuracy: 85.62999725341797\n",
      "Epoch 3, Loss: 0.3586411476135254, Accuracy: 88.70000457763672, Test Loss: 0.3817662298679352, Test Accuracy: 87.44000244140625\n",
      "Epoch 4, Loss: 0.29676470160484314, Accuracy: 92.0999984741211, Test Loss: 0.319560170173645, Test Accuracy: 89.9800033569336\n",
      "Epoch 5, Loss: 0.20366619527339935, Accuracy: 93.5, Test Loss: 0.3157195746898651, Test Accuracy: 90.01000213623047\n",
      "Epoch 6, Loss: 0.15860511362552643, Accuracy: 95.9000015258789, Test Loss: 0.2844456434249878, Test Accuracy: 90.88999938964844\n",
      "Epoch 7, Loss: 0.13208745419979095, Accuracy: 95.9000015258789, Test Loss: 0.27122944593429565, Test Accuracy: 91.75\n",
      "Epoch 8, Loss: 0.1069456934928894, Accuracy: 96.80000305175781, Test Loss: 0.27757471799850464, Test Accuracy: 91.81999969482422\n",
      "Epoch 9, Loss: 0.07966891676187515, Accuracy: 98.19999694824219, Test Loss: 0.2778972089290619, Test Accuracy: 91.68000030517578\n",
      "Epoch 10, Loss: 0.07578074932098389, Accuracy: 97.5999984741211, Test Loss: 0.2563530504703522, Test Accuracy: 92.5199966430664\n",
      "Epoch 11, Loss: 0.05404358729720116, Accuracy: 98.5, Test Loss: 0.25450408458709717, Test Accuracy: 92.79999542236328\n",
      "Epoch 12, Loss: 0.049111708998680115, Accuracy: 98.69999694824219, Test Loss: 0.2493932843208313, Test Accuracy: 92.8499984741211\n",
      "Epoch 13, Loss: 0.055309511721134186, Accuracy: 98.5999984741211, Test Loss: 0.24449686706066132, Test Accuracy: 93.12999725341797\n",
      "Epoch 14, Loss: 0.03991812840104103, Accuracy: 98.79999542236328, Test Loss: 0.2664678990840912, Test Accuracy: 92.79000091552734\n",
      "Epoch 15, Loss: 0.030919602140784264, Accuracy: 99.0999984741211, Test Loss: 0.25460150837898254, Test Accuracy: 93.29000091552734\n",
      "Epoch 16, Loss: 0.04242027923464775, Accuracy: 99.19999694824219, Test Loss: 0.2716408967971802, Test Accuracy: 92.68000030517578\n",
      "Epoch 17, Loss: 0.024449968710541725, Accuracy: 99.29999542236328, Test Loss: 0.2512163817882538, Test Accuracy: 93.22000122070312\n",
      "Epoch 18, Loss: 0.04300028830766678, Accuracy: 98.5999984741211, Test Loss: 0.2624615728855133, Test Accuracy: 92.65999603271484\n",
      "Epoch 19, Loss: 0.02925214171409607, Accuracy: 99.0999984741211, Test Loss: 0.275187611579895, Test Accuracy: 92.66999816894531\n",
      "Epoch 20, Loss: 0.03522270545363426, Accuracy: 98.9000015258789, Test Loss: 0.2724637985229492, Test Accuracy: 93.08999633789062\n",
      "Final test loss: 0.2724638\n"
     ]
    }
   ],
   "source": [
    "\n",
    "train_image_generator = ImageDataGenerator(rescale=1./255, \n",
    "                                     rotation_range=20) \n",
    "test_image_generator = ImageDataGenerator(rescale=1./255) \n",
    "final_test_loss = trainer(BasicCNN, train_image_generator, test_image_generator, \n",
    "                          verbose=True, max_epochs=20)\n",
    "print('Final test loss:', final_test_loss)"
   ]
  },
  {
   "cell_type": "markdown",
   "metadata": {
    "id": "lPBrqLzn5EOB"
   },
   "source": [
    "Changing Architecture - Added 2 dropout layers\n"
   ]
  },
  {
   "cell_type": "code",
   "execution_count": null,
   "metadata": {
    "colab": {
     "base_uri": "https://localhost:8080/"
    },
    "id": "qKqslmqB5KZM",
    "outputId": "1a11023c-71f5-4429-915e-ca58fee209d2"
   },
   "outputs": [
    {
     "name": "stdout",
     "output_type": "stream",
     "text": [
      "Epoch 1, Loss: 1.265486717224121, Accuracy: 57.599998474121094, Test Loss: 0.5880975127220154, Test Accuracy: 82.41999816894531\n",
      "Epoch 2, Loss: 0.5945870280265808, Accuracy: 83.5, Test Loss: 0.47371548414230347, Test Accuracy: 85.38999938964844\n",
      "Epoch 3, Loss: 0.39454126358032227, Accuracy: 87.69999694824219, Test Loss: 0.4066397547721863, Test Accuracy: 87.45999908447266\n",
      "Epoch 4, Loss: 0.30924004316329956, Accuracy: 90.80000305175781, Test Loss: 0.3578096926212311, Test Accuracy: 89.06000518798828\n",
      "Epoch 5, Loss: 0.24542272090911865, Accuracy: 92.69999694824219, Test Loss: 0.36670488119125366, Test Accuracy: 89.16000366210938\n",
      "Epoch 6, Loss: 0.18803288042545319, Accuracy: 94.5999984741211, Test Loss: 0.32927027344703674, Test Accuracy: 90.27000427246094\n",
      "Epoch 7, Loss: 0.14795465767383575, Accuracy: 95.70000457763672, Test Loss: 0.3216382563114166, Test Accuracy: 90.09000396728516\n",
      "Epoch 8, Loss: 0.09477434307336807, Accuracy: 97.0999984741211, Test Loss: 0.32558366656303406, Test Accuracy: 90.4000015258789\n",
      "Epoch 9, Loss: 0.06989400833845139, Accuracy: 97.69999694824219, Test Loss: 0.34842386841773987, Test Accuracy: 89.9800033569336\n",
      "Epoch 10, Loss: 0.08208395540714264, Accuracy: 96.9000015258789, Test Loss: 0.3237946629524231, Test Accuracy: 90.83999633789062\n",
      "Epoch 11, Loss: 0.051310792565345764, Accuracy: 98.69999694824219, Test Loss: 0.3303031623363495, Test Accuracy: 90.62999725341797\n",
      "Epoch 12, Loss: 0.05086842551827431, Accuracy: 99.0999984741211, Test Loss: 0.34272822737693787, Test Accuracy: 90.44999694824219\n",
      "Epoch 13, Loss: 0.05819007009267807, Accuracy: 98.19999694824219, Test Loss: 0.30839380621910095, Test Accuracy: 91.31999969482422\n",
      "Epoch 14, Loss: 0.03942630812525749, Accuracy: 99.0, Test Loss: 0.32575178146362305, Test Accuracy: 91.43000030517578\n",
      "Epoch 15, Loss: 0.045453645288944244, Accuracy: 98.5999984741211, Test Loss: 0.35253459215164185, Test Accuracy: 90.80000305175781\n",
      "Epoch 16, Loss: 0.04365283623337746, Accuracy: 98.69999694824219, Test Loss: 0.3259536325931549, Test Accuracy: 91.25999450683594\n",
      "Epoch 17, Loss: 0.03961672633886337, Accuracy: 98.9000015258789, Test Loss: 0.3421463966369629, Test Accuracy: 91.13999938964844\n",
      "Epoch 18, Loss: 0.03552326560020447, Accuracy: 99.29999542236328, Test Loss: 0.3450967073440552, Test Accuracy: 91.05999755859375\n",
      "Epoch 19, Loss: 0.035418376326560974, Accuracy: 99.0, Test Loss: 0.33954325318336487, Test Accuracy: 91.20999908447266\n",
      "Epoch 20, Loss: 0.032770056277513504, Accuracy: 98.69999694824219, Test Loss: 0.3526514172554016, Test Accuracy: 90.90999603271484\n",
      "Final test loss: 0.35265142\n"
     ]
    }
   ],
   "source": [
    "train_image_generator = ImageDataGenerator(rescale=1./255) \n",
    "test_image_generator = ImageDataGenerator(rescale=1./255) \n",
    "final_test_loss = trainer(BasicCNN, train_image_generator, test_image_generator, \n",
    "                          verbose=True, max_epochs=20)\n",
    "print('Final test loss:', final_test_loss)"
   ]
  },
  {
   "cell_type": "markdown",
   "metadata": {
    "id": "ip4MK1xz8eOU"
   },
   "source": [
    "Dropout plus image Augmentation"
   ]
  },
  {
   "cell_type": "code",
   "execution_count": null,
   "metadata": {
    "colab": {
     "base_uri": "https://localhost:8080/"
    },
    "id": "OPwdNLH08j-_",
    "outputId": "604c1cbe-3861-48a7-f495-c7d5db3f0888"
   },
   "outputs": [
    {
     "name": "stdout",
     "output_type": "stream",
     "text": [
      "Epoch 1, Loss: 1.335269808769226, Accuracy: 55.5, Test Loss: 0.5781012773513794, Test Accuracy: 82.95999908447266\n",
      "Epoch 2, Loss: 0.7580810785293579, Accuracy: 74.9000015258789, Test Loss: 0.48384585976600647, Test Accuracy: 84.88999938964844\n",
      "Epoch 3, Loss: 0.5601168870925903, Accuracy: 82.0999984741211, Test Loss: 0.35914257168769836, Test Accuracy: 88.66999816894531\n",
      "Epoch 4, Loss: 0.5481895208358765, Accuracy: 82.5, Test Loss: 0.3210331201553345, Test Accuracy: 89.86000061035156\n",
      "Epoch 5, Loss: 0.46746018528938293, Accuracy: 86.5, Test Loss: 0.3065767288208008, Test Accuracy: 90.16000366210938\n",
      "Epoch 6, Loss: 0.42873650789260864, Accuracy: 87.0999984741211, Test Loss: 0.2648230493068695, Test Accuracy: 91.7699966430664\n",
      "Epoch 7, Loss: 0.33003726601600647, Accuracy: 89.0999984741211, Test Loss: 0.2454458624124527, Test Accuracy: 92.29000091552734\n",
      "Epoch 8, Loss: 0.3008411228656769, Accuracy: 90.80000305175781, Test Loss: 0.24480657279491425, Test Accuracy: 92.3699951171875\n",
      "Epoch 9, Loss: 0.25511133670806885, Accuracy: 90.9000015258789, Test Loss: 0.23851469159126282, Test Accuracy: 92.5199966430664\n",
      "Epoch 10, Loss: 0.25982165336608887, Accuracy: 91.39999389648438, Test Loss: 0.24083994328975677, Test Accuracy: 92.31999969482422\n",
      "Epoch 11, Loss: 0.22489655017852783, Accuracy: 92.69999694824219, Test Loss: 0.24115146696567535, Test Accuracy: 92.37999725341797\n",
      "Epoch 12, Loss: 0.22755928337574005, Accuracy: 93.69999694824219, Test Loss: 0.22239278256893158, Test Accuracy: 92.75\n",
      "Epoch 13, Loss: 0.1901378333568573, Accuracy: 93.0, Test Loss: 0.2228902280330658, Test Accuracy: 93.20999908447266\n",
      "Epoch 14, Loss: 0.1869981288909912, Accuracy: 93.9000015258789, Test Loss: 0.20581337809562683, Test Accuracy: 93.48999786376953\n",
      "Epoch 15, Loss: 0.1871509850025177, Accuracy: 95.0, Test Loss: 0.19200341403484344, Test Accuracy: 93.91999816894531\n",
      "Epoch 16, Loss: 0.1694718897342682, Accuracy: 95.4000015258789, Test Loss: 0.1938638836145401, Test Accuracy: 93.79000091552734\n",
      "Epoch 17, Loss: 0.13534608483314514, Accuracy: 96.20000457763672, Test Loss: 0.20379093289375305, Test Accuracy: 93.62999725341797\n",
      "Epoch 18, Loss: 0.12935978174209595, Accuracy: 95.80000305175781, Test Loss: 0.19853916764259338, Test Accuracy: 94.09000396728516\n",
      "Epoch 19, Loss: 0.10597655922174454, Accuracy: 97.39999389648438, Test Loss: 0.19927577674388885, Test Accuracy: 94.19000244140625\n",
      "Epoch 20, Loss: 0.14131046831607819, Accuracy: 95.5999984741211, Test Loss: 0.19813837110996246, Test Accuracy: 93.87000274658203\n",
      "Final test loss: 0.19813837\n"
     ]
    }
   ],
   "source": [
    "train_image_generator = ImageDataGenerator(rescale=1./255, \n",
    "                                     rotation_range=20) \n",
    "test_image_generator = ImageDataGenerator(rescale=1./255) \n",
    "final_test_loss = trainer(BasicCNN, train_image_generator, test_image_generator, \n",
    "                          verbose=True, max_epochs=20)\n",
    "print('Final test loss:', final_test_loss)"
   ]
  },
  {
   "cell_type": "markdown",
   "metadata": {
    "id": "6VbVDKsK9uGp"
   },
   "source": [
    "Added another convulational layer"
   ]
  },
  {
   "cell_type": "code",
   "execution_count": null,
   "metadata": {
    "colab": {
     "base_uri": "https://localhost:8080/"
    },
    "id": "B65tGM-X9yTA",
    "outputId": "6e1f7c80-b068-46c9-d3e9-5289870b8d89"
   },
   "outputs": [
    {
     "name": "stdout",
     "output_type": "stream",
     "text": [
      "Epoch 1, Loss: 1.3962639570236206, Accuracy: 51.70000076293945, Test Loss: 0.5687040090560913, Test Accuracy: 82.27000427246094\n",
      "Epoch 2, Loss: 0.7010168433189392, Accuracy: 78.19999694824219, Test Loss: 0.3811497390270233, Test Accuracy: 87.22000122070312\n",
      "Epoch 3, Loss: 0.4507678151130676, Accuracy: 84.79999542236328, Test Loss: 0.26753565669059753, Test Accuracy: 91.80999755859375\n",
      "Epoch 4, Loss: 0.4280616044998169, Accuracy: 88.0999984741211, Test Loss: 0.2445094883441925, Test Accuracy: 92.07999420166016\n",
      "Epoch 5, Loss: 0.34914642572402954, Accuracy: 89.70000457763672, Test Loss: 0.22245772182941437, Test Accuracy: 93.11000061035156\n",
      "Epoch 6, Loss: 0.26905301213264465, Accuracy: 91.29999542236328, Test Loss: 0.2122645527124405, Test Accuracy: 93.33999633789062\n",
      "Epoch 7, Loss: 0.24030852317810059, Accuracy: 91.79999542236328, Test Loss: 0.19726204872131348, Test Accuracy: 93.83999633789062\n",
      "Epoch 8, Loss: 0.2154054343700409, Accuracy: 93.9000015258789, Test Loss: 0.181350976228714, Test Accuracy: 94.37999725341797\n",
      "Epoch 9, Loss: 0.17359350621700287, Accuracy: 94.70000457763672, Test Loss: 0.16794200241565704, Test Accuracy: 94.88999938964844\n",
      "Epoch 10, Loss: 0.18157561123371124, Accuracy: 94.0, Test Loss: 0.1726338267326355, Test Accuracy: 94.8800048828125\n",
      "Epoch 11, Loss: 0.14555685222148895, Accuracy: 95.5, Test Loss: 0.17089053988456726, Test Accuracy: 95.01000213623047\n",
      "Epoch 12, Loss: 0.13710203766822815, Accuracy: 95.0999984741211, Test Loss: 0.15986618399620056, Test Accuracy: 95.31999969482422\n",
      "Epoch 13, Loss: 0.12144459038972855, Accuracy: 96.20000457763672, Test Loss: 0.16335920989513397, Test Accuracy: 95.16999816894531\n",
      "Epoch 14, Loss: 0.13425754010677338, Accuracy: 96.0, Test Loss: 0.1611587107181549, Test Accuracy: 95.49000549316406\n",
      "Epoch 15, Loss: 0.13693487644195557, Accuracy: 95.5999984741211, Test Loss: 0.17865613102912903, Test Accuracy: 94.91000366210938\n",
      "Epoch 16, Loss: 0.11165711283683777, Accuracy: 96.20000457763672, Test Loss: 0.16552579402923584, Test Accuracy: 95.41000366210938\n",
      "Epoch 17, Loss: 0.09553302824497223, Accuracy: 96.4000015258789, Test Loss: 0.18301106989383698, Test Accuracy: 95.11000061035156\n",
      "Epoch 18, Loss: 0.09533622860908508, Accuracy: 96.5, Test Loss: 0.17042899131774902, Test Accuracy: 95.45999908447266\n",
      "Epoch 19, Loss: 0.06561808288097382, Accuracy: 97.89999389648438, Test Loss: 0.18447524309158325, Test Accuracy: 95.37000274658203\n",
      "Epoch 20, Loss: 0.08081431686878204, Accuracy: 97.0999984741211, Test Loss: 0.19085045158863068, Test Accuracy: 95.1300048828125\n",
      "Final test loss: 0.19085045\n"
     ]
    }
   ],
   "source": [
    "train_image_generator = ImageDataGenerator(rescale=1./255, \n",
    "                                     rotation_range=20) \n",
    "test_image_generator = ImageDataGenerator(rescale=1./255) \n",
    "final_test_loss = trainer(BasicCNN, train_image_generator, test_image_generator, \n",
    "                          verbose=True, max_epochs=20)\n",
    "print('Final test loss:', final_test_loss)"
   ]
  },
  {
   "cell_type": "markdown",
   "metadata": {
    "id": "alW865y0BsVn"
   },
   "source": [
    "Adding L2 Regularisation"
   ]
  },
  {
   "cell_type": "code",
   "execution_count": null,
   "metadata": {
    "colab": {
     "base_uri": "https://localhost:8080/"
    },
    "id": "4goRHfJQBvJL",
    "outputId": "03772eca-a028-4487-9d11-67cb5f1943ea"
   },
   "outputs": [
    {
     "name": "stdout",
     "output_type": "stream",
     "text": [
      "Epoch 1, Loss: 1.3833023309707642, Accuracy: 52.79999923706055, Test Loss: 0.5343092083930969, Test Accuracy: 83.5\n",
      "Epoch 2, Loss: 0.6565513014793396, Accuracy: 79.0999984741211, Test Loss: 0.3259616792201996, Test Accuracy: 90.26000213623047\n",
      "Epoch 3, Loss: 0.4710690975189209, Accuracy: 84.4000015258789, Test Loss: 0.2600972652435303, Test Accuracy: 91.91999816894531\n",
      "Epoch 4, Loss: 0.37585803866386414, Accuracy: 87.80000305175781, Test Loss: 0.20492039620876312, Test Accuracy: 93.33000183105469\n",
      "Epoch 5, Loss: 0.29680514335632324, Accuracy: 89.5, Test Loss: 0.19802945852279663, Test Accuracy: 93.70999908447266\n",
      "Epoch 6, Loss: 0.21732796728610992, Accuracy: 93.4000015258789, Test Loss: 0.20133771002292633, Test Accuracy: 93.58999633789062\n",
      "Epoch 7, Loss: 0.26244843006134033, Accuracy: 91.69999694824219, Test Loss: 0.17383913695812225, Test Accuracy: 94.4800033569336\n",
      "Epoch 8, Loss: 0.18731361627578735, Accuracy: 95.0999984741211, Test Loss: 0.16059915721416473, Test Accuracy: 95.13999938964844\n",
      "Epoch 9, Loss: 0.18197406828403473, Accuracy: 94.30000305175781, Test Loss: 0.17598262429237366, Test Accuracy: 94.66000366210938\n",
      "Epoch 10, Loss: 0.1786835640668869, Accuracy: 94.19999694824219, Test Loss: 0.15717752277851105, Test Accuracy: 95.05000305175781\n",
      "Epoch 11, Loss: 0.14292506873607635, Accuracy: 95.30000305175781, Test Loss: 0.16048398613929749, Test Accuracy: 95.37000274658203\n",
      "Epoch 12, Loss: 0.11693327128887177, Accuracy: 96.20000457763672, Test Loss: 0.16073712706565857, Test Accuracy: 95.54000091552734\n",
      "Epoch 13, Loss: 0.1435154378414154, Accuracy: 95.80000305175781, Test Loss: 0.14709113538265228, Test Accuracy: 95.70000457763672\n",
      "Epoch 14, Loss: 0.13317760825157166, Accuracy: 96.0, Test Loss: 0.15834835171699524, Test Accuracy: 95.51000213623047\n",
      "Epoch 15, Loss: 0.12051846832036972, Accuracy: 95.5999984741211, Test Loss: 0.170474573969841, Test Accuracy: 95.30000305175781\n",
      "Epoch 16, Loss: 0.11416193097829819, Accuracy: 97.0, Test Loss: 0.14009076356887817, Test Accuracy: 95.76000213623047\n",
      "Epoch 17, Loss: 0.09219849854707718, Accuracy: 96.5, Test Loss: 0.160890594124794, Test Accuracy: 95.52000427246094\n",
      "Epoch 18, Loss: 0.10193274915218353, Accuracy: 96.5999984741211, Test Loss: 0.15602128207683563, Test Accuracy: 95.47000122070312\n",
      "Epoch 19, Loss: 0.09142795205116272, Accuracy: 96.9000015258789, Test Loss: 0.1503581553697586, Test Accuracy: 95.84000396728516\n",
      "Epoch 20, Loss: 0.08844348788261414, Accuracy: 97.39999389648438, Test Loss: 0.15525496006011963, Test Accuracy: 95.84000396728516\n",
      "Final test loss: 0.15525496\n"
     ]
    }
   ],
   "source": [
    "train_image_generator = ImageDataGenerator(rescale=1./255, \n",
    "                                     rotation_range=25) \n",
    "test_image_generator = ImageDataGenerator(rescale=1./255) \n",
    "final_test_loss = trainer(BasicCNN, train_image_generator, test_image_generator, \n",
    "                          verbose=True, max_epochs=20)\n",
    "print('Final test loss:', final_test_loss)"
   ]
  },
  {
   "cell_type": "markdown",
   "metadata": {
    "id": "_xhryCOHlZ7q"
   },
   "source": [
    "Adding 2 batch normalisation layers\n",
    "\n"
   ]
  },
  {
   "cell_type": "code",
   "execution_count": null,
   "metadata": {
    "colab": {
     "base_uri": "https://localhost:8080/"
    },
    "id": "rcZd71n9lafe",
    "outputId": "d2982bbb-9f90-463c-f189-9ff13d69c114"
   },
   "outputs": [
    {
     "name": "stdout",
     "output_type": "stream",
     "text": [
      "Epoch 1, Loss: 1.1036397218704224, Accuracy: 66.39999389648438, Test Loss: 1.800807237625122, Test Accuracy: 58.79999923706055\n",
      "Epoch 2, Loss: 0.47866109013557434, Accuracy: 86.0999984741211, Test Loss: 1.99521005153656, Test Accuracy: 29.850000381469727\n",
      "Epoch 3, Loss: 0.2817516326904297, Accuracy: 92.69999694824219, Test Loss: 2.112365245819092, Test Accuracy: 13.49000072479248\n",
      "Epoch 4, Loss: 0.22245772182941437, Accuracy: 93.80000305175781, Test Loss: 2.041639566421509, Test Accuracy: 28.969999313354492\n",
      "Epoch 5, Loss: 0.17316193878650665, Accuracy: 95.5, Test Loss: 1.9788901805877686, Test Accuracy: 32.900001525878906\n",
      "Epoch 6, Loss: 0.1357235163450241, Accuracy: 96.10000610351562, Test Loss: 2.029604434967041, Test Accuracy: 32.36000061035156\n",
      "Epoch 7, Loss: 0.10603106766939163, Accuracy: 97.29999542236328, Test Loss: 1.8716946840286255, Test Accuracy: 34.95000076293945\n",
      "Epoch 8, Loss: 0.08840974420309067, Accuracy: 97.5, Test Loss: 1.7613372802734375, Test Accuracy: 40.20000076293945\n",
      "Epoch 9, Loss: 0.07793217152357101, Accuracy: 98.29999542236328, Test Loss: 1.5814743041992188, Test Accuracy: 46.43000030517578\n",
      "Epoch 10, Loss: 0.07610368728637695, Accuracy: 98.0999984741211, Test Loss: 1.2852674722671509, Test Accuracy: 61.349998474121094\n",
      "Epoch 11, Loss: 0.05836388096213341, Accuracy: 99.5, Test Loss: 1.0904366970062256, Test Accuracy: 70.0999984741211\n",
      "Epoch 12, Loss: 0.07901216298341751, Accuracy: 99.0, Test Loss: 0.8370715379714966, Test Accuracy: 83.79000091552734\n",
      "Epoch 13, Loss: 0.07102702558040619, Accuracy: 98.5, Test Loss: 0.7040270566940308, Test Accuracy: 85.5199966430664\n",
      "Epoch 14, Loss: 0.04373890906572342, Accuracy: 99.29999542236328, Test Loss: 0.43015041947364807, Test Accuracy: 93.58000183105469\n",
      "Epoch 15, Loss: 0.035806525498628616, Accuracy: 99.19999694824219, Test Loss: 0.3715570271015167, Test Accuracy: 94.19999694824219\n",
      "Epoch 16, Loss: 0.025369543582201004, Accuracy: 99.69999694824219, Test Loss: 0.2573736906051636, Test Accuracy: 95.31999969482422\n",
      "Epoch 17, Loss: 0.04666239768266678, Accuracy: 99.0, Test Loss: 0.2028771936893463, Test Accuracy: 95.77999877929688\n",
      "Epoch 18, Loss: 0.03172121196985245, Accuracy: 99.5999984741211, Test Loss: 0.16208399832248688, Test Accuracy: 95.74000549316406\n",
      "Epoch 19, Loss: 0.03383076563477516, Accuracy: 99.4000015258789, Test Loss: 0.15429764986038208, Test Accuracy: 95.19000244140625\n",
      "Epoch 20, Loss: 0.030320905148983, Accuracy: 99.5999984741211, Test Loss: 0.12491339445114136, Test Accuracy: 96.1300048828125\n",
      "Final test loss: 0.124913394\n"
     ]
    }
   ],
   "source": [
    "train_image_generator = ImageDataGenerator(rescale=1./255, \n",
    "                                     rotation_range=20) \n",
    "test_image_generator = ImageDataGenerator(rescale=1./255) \n",
    "final_test_loss = trainer(BasicCNN, train_image_generator, test_image_generator, \n",
    "                          verbose=True, max_epochs=20)\n",
    "print('Final test loss:', final_test_loss)"
   ]
  },
  {
   "cell_type": "markdown",
   "metadata": {
    "id": "1shf8axytmnX"
   },
   "source": [
    "    "
   ]
  },
  {
   "cell_type": "code",
   "execution_count": 16,
   "metadata": {
    "id": "MEdayAnBuEr6"
   },
   "outputs": [],
   "source": []
  }
 ],
 "metadata": {
  "colab": {
   "name": "Copy of regularisation.ipynb",
   "provenance": []
  },
  "kernelspec": {
   "display_name": "Python 3",
   "language": "python",
   "name": "python3"
  },
  "language_info": {
   "codemirror_mode": {
    "name": "ipython",
    "version": 3
   },
   "file_extension": ".py",
   "mimetype": "text/x-python",
   "name": "python",
   "nbconvert_exporter": "python",
   "pygments_lexer": "ipython3",
   "version": "3.8.3"
  }
 },
 "nbformat": 4,
 "nbformat_minor": 1
}
