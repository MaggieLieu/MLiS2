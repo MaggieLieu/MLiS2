{
  "nbformat": 4,
  "nbformat_minor": 0,
  "metadata": {
    "colab": {
      "name": "Week 4 Worksheet.ipynb",
      "provenance": [],
      "collapsed_sections": []
    },
    "kernelspec": {
      "display_name": "Python 3",
      "name": "python3"
    }
  },
  "cells": [
    {
      "cell_type": "markdown",
      "metadata": {
        "id": "Q__xIPSlsdc-"
      },
      "source": [
        "# Graph and geometric learning"
      ]
    },
    {
      "cell_type": "markdown",
      "metadata": {
        "id": "P5UQCuyusgSJ"
      },
      "source": [
        "In this notebook your task is to prepare data for geometric learning. First we will look at converting images to graphs. Then we will look at getting graphs from 3D data. Lastly we will train GCN to classify the 3D objects"
      ]
    },
    {
      "cell_type": "markdown",
      "metadata": {
        "id": "PPUrsE31iuH2"
      },
      "source": [
        "# MNIST super pixels"
      ]
    },
    {
      "cell_type": "markdown",
      "metadata": {
        "id": "F_9dFL-ve3yS"
      },
      "source": [
        "Firstly let us make graphs from images"
      ]
    },
    {
      "cell_type": "code",
      "metadata": {
        "id": "bQm3yeMnitcH"
      },
      "source": [
        "import tensorflow as tf\n",
        "import numpy as np\n",
        "%matplotlib inline\n",
        "import matplotlib.pyplot as plt\n",
        "from skimage import color, segmentation\n",
        "from skimage.segmentation import mark_boundaries\n",
        "from skimage.segmentation import slic\n",
        "from skimage.measure import regionprops\n",
        "from skimage.future import graph\n",
        "import networkx as nx\n",
        "from tensorflow import keras\n",
        "from tensorflow.keras import layers"
      ],
      "execution_count": null,
      "outputs": []
    },
    {
      "cell_type": "code",
      "metadata": {
        "id": "X2PdhGqHenNy"
      },
      "source": [
        "print(tf.__version__) # check we are using tensorflow v1.15 as this is required for GCN"
      ],
      "execution_count": null,
      "outputs": []
    },
    {
      "cell_type": "code",
      "metadata": {
        "id": "DRszUb3_vv4W"
      },
      "source": [
        "(x_train, y_train), (x_test, y_test) = keras.datasets.mnist.load_data() #Load the mnist dataset"
      ],
      "execution_count": null,
      "outputs": []
    },
    {
      "cell_type": "code",
      "metadata": {
        "id": "ysX2sLdvuEfm"
      },
      "source": [
        "#get first image data and label and plot it\n",
        "plt.imshow(x_train[0,:,:], cmap='gray_r');"
      ],
      "execution_count": null,
      "outputs": []
    },
    {
      "cell_type": "code",
      "metadata": {
        "id": "jus-yIG7uWd-"
      },
      "source": [
        "# write a function that preprocesses an input image to have 3 channels in the output. This is required for the segmentation. \n",
        "def _preprocess(image): #make image have 3 channels\n"
      ],
      "execution_count": null,
      "outputs": []
    },
    {
      "cell_type": "code",
      "metadata": {
        "id": "wnO1G8SIeZMD"
      },
      "source": [
        "# write a function that takes the image, preprocesses it using the previous function we wrote and then uses the slic function to obtain the segmentation. It requires the number of segments and compactnesss to be set\n",
        "def get_slic(image, n_segments, compactness):\n",
        "  processed_image = #process image\n",
        "  output =  #get segmentation \n",
        "  return output"
      ],
      "execution_count": null,
      "outputs": []
    },
    {
      "cell_type": "code",
      "metadata": {
        "id": "3lbCjAOKcHFp"
      },
      "source": [
        "# Check that it works by ploting the image and its segmentation\n",
        "processed_image = _preprocess(x_train[0,:,:])\n",
        "segs = get_slic(x_train[0,:,:], n_segments=50, compactness=10)\n",
        "fig, ax = plt.subplots(1, 2, figsize=(10, 10), sharex=True, sharey=True)\n",
        "\n",
        "ax[0].imshow(processed_image);\n",
        "ax[1].imshow(mark_boundaries(processed_image, segs));"
      ],
      "execution_count": null,
      "outputs": []
    },
    {
      "cell_type": "markdown",
      "metadata": {
        "id": "Zi0DeAbEfutm"
      },
      "source": [
        "It looks a bit weird because the size of the image is soo tiny. We can scale up the image to get a better look at the segmentation"
      ]
    },
    {
      "cell_type": "code",
      "metadata": {
        "id": "9WE00Vmof4Wm"
      },
      "source": [
        "def scale_image(image, scale):\n",
        "  image = np.repeat(image, scale, axis=0)\n",
        "  image = np.repeat(image, scale, axis=1)\n",
        "  return(image)\n",
        "\n",
        "scale = 10 \n",
        "scaled_im = scale_image(processed_image, scale)\n",
        "scaled_seg = scale_image(segs,scale)\n",
        "\n",
        "fig, ax = plt.subplots(1, 2, figsize=(10, 10), sharex=True, sharey=True)\n",
        "\n",
        "ax[0].imshow(scaled_im);\n",
        "ax[1].imshow(mark_boundaries(scaled_im, scaled_seg));"
      ],
      "execution_count": null,
      "outputs": []
    },
    {
      "cell_type": "markdown",
      "metadata": {
        "id": "MdOjqbKogvBa"
      },
      "source": [
        "Next we want to convert these segments to graphical nodes. "
      ]
    },
    {
      "cell_type": "code",
      "metadata": {
        "id": "mZrl_nv-tzR1"
      },
      "source": [
        " # Compute the graph g from the segmentation using mean colors. This can be done using the function rag_mean_colour in graph\n",
        "g = "
      ],
      "execution_count": null,
      "outputs": []
    },
    {
      "cell_type": "code",
      "metadata": {
        "id": "nH7xNuJKuz-R"
      },
      "source": [
        "print('Nodes: \\n', g.nodes) #print nodes\n",
        "print('Degrees: \\n', g.degree) #print number of degrees of each node (connections)\n",
        "print('Edges: \\n', g.edges) # print the connections\n",
        "print('Node 0: \\n', g.nodes[0]) #print the properties of the nodes"
      ],
      "execution_count": null,
      "outputs": []
    },
    {
      "cell_type": "markdown",
      "metadata": {
        "id": "OKM9a1JBgP_g"
      },
      "source": [
        "This is what you should get: \n",
        "\n",
        "Nodes:  \n",
        " [0, 1, 2, 3, 4, 5, 6, 7, 8, 9, 10, 11, 12, 13, 14, 15, 16, 17, 18, 19, 20, 21, 22, 23, 24, 25, 26, 27, 28, 29, 30, 31, 32, 33, 34, 35, 36]\n",
        "\n",
        "Degrees:   \n",
        " [(0, 3), (1, 4), (2, 4), (3, 3), (4, 4), (5, 4), (6, 2), (7, 5), (8, 7), (9, 4), (10, 6), (11, 10), (12, 4), (13, 7), (14, 5), (15, 5), (16, 4), (17, 5), (18, 4), (19, 6), (20, 4), (21, 9), (22, 6), (23, 6), (24, 4), (25, 4), (26, 5), (27, 4), (28, 7), (29, 7), (30, 5), (31, 4), (32, 4), (33, 3), (34, 4), (35, 3), (36, 3)]\n",
        "\n",
        "Edges:  \n",
        " [(0, 1), (0, 7), (0, 8), (1, 2), (1, 7), (1, 8), (2, 3), (2, 8), (2, 11), (3, 4), (3, 11), (4, 5), (4, 10), (4, 11), (5, 6), (5, 9), (5, 10), (6, 9), (7, 8), (7, 12), (7, 13), (8, 11), (8, 12), (8, 13), (9, 10), (9, 15), (10, 11), (10, 14), (10, 15), (11, 13), (11, 14), (11, 16), (11, 21), (11, 22), (12, 13), (12, 18), (13, 16), (13, 18), (13, 19), (14, 15), (14, 17), (14, 21), (15, 17), (15, 20), (16, 19), (16, 22), (17, 20), (17, 21), (17, 23), (18, 19), (18, 24), (19, 24), (19, 22), (19, 26), (20, 23), (20, 25), (21, 22), (21, 23), (21, 29), (21, 28), (21, 31), (21, 32), (22, 26), (22, 28), (23, 25), (23, 29), (23, 30), (24, 26), (24, 27), (25, 29), (25, 30), (26, 27), (26, 28), (27, 33), (27, 28), (28, 32), (28, 33), (28, 36), (29, 30), (29, 31), (29, 34), (29, 35), (30, 34), (30, 35), (31, 32), (31, 34), (32, 36), (33, 36), (34, 35)]\n",
        "\n",
        "Node 0:  \n",
        " {'labels': [0], 'pixel count': 16, 'total color': array([0., 0., 0.]), 'mean color': array([0., 0., 0.])}"
      ]
    },
    {
      "cell_type": "code",
      "metadata": {
        "id": "WKYtanD9wgOC"
      },
      "source": [
        "#draw the graph \n",
        "nx.draw(g, with_labels=True)"
      ],
      "execution_count": null,
      "outputs": []
    },
    {
      "cell_type": "code",
      "metadata": {
        "id": "4KhpWB9d1lad"
      },
      "source": [
        "A =  #get the adjacency matrix from the graph\n",
        "print('shape: ', np.shape(A));\n",
        "plt.imshow(A);"
      ],
      "execution_count": null,
      "outputs": []
    },
    {
      "cell_type": "markdown",
      "metadata": {
        "id": "9KUzYa0I4u7M"
      },
      "source": [
        "# 3D objects\n",
        "3D data is hard to come by. Here we use ModelNet 3D objects. To use them, we need to represent them as cloud point data and assume points are nodes in a graph. The cloud point data are obtained by sampling the surface of the 3D objects."
      ]
    },
    {
      "cell_type": "code",
      "metadata": {
        "id": "FxtB3Nbrb5aV"
      },
      "source": [
        "import os\n",
        "import glob\n",
        "!pip install trimesh\n",
        "import trimesh\n",
        "!pip install git+https://github.com/tkipf/gcn.git\n",
        "from __future__ import division\n",
        "from __future__ import print_function\n",
        "from sklearn.neighbors import NearestNeighbors\n",
        "from gcn.utils import *\n",
        "from gcn.models import GCN, MLP\n",
        "\n",
        "import time\n",
        "import scipy.sparse as sp\n",
        "from scipy.sparse import csr_matrix"
      ],
      "execution_count": null,
      "outputs": []
    },
    {
      "cell_type": "code",
      "metadata": {
        "id": "I01Ji2T4Heri"
      },
      "source": [
        "DATA_DIR = tf.keras.utils.get_file(\n",
        "    \"modelnet.zip\",\n",
        "    \"http://3dvision.princeton.edu/projects/2014/3DShapeNets/ModelNet10.zip\",\n",
        "    extract=True,\n",
        ")\n",
        "DATA_DIR = os.path.join(os.path.dirname(DATA_DIR), \"ModelNet10\")"
      ],
      "execution_count": null,
      "outputs": []
    },
    {
      "cell_type": "code",
      "metadata": {
        "id": "kjUeiWygnv6K"
      },
      "source": [
        "mesh = trimesh.load(os.path.join(DATA_DIR, \"chair/train/chair_0001.off\"))\n",
        "mesh.show()"
      ],
      "execution_count": null,
      "outputs": []
    },
    {
      "cell_type": "code",
      "metadata": {
        "id": "iS_OBLrqn_Tv"
      },
      "source": [
        "# Convert mesh to point cloud we need to do sampling\n",
        "points =  #sample 2000 points from the mesh using the sample function \n",
        "\n",
        "fig = plt.figure(figsize=(5, 5))\n",
        "ax = fig.add_subplot(111, projection=\"3d\")\n",
        "ax.scatter(points[:, 0], points[:, 1], points[:, 2])\n",
        "ax.set_axis_off()\n",
        "plt.show()"
      ],
      "execution_count": null,
      "outputs": []
    },
    {
      "cell_type": "code",
      "metadata": {
        "id": "VqpxCot6oER_"
      },
      "source": [
        "# parse through folders of ModelNet to get dataset\n",
        "def parse_dataset(num_points=2048):\n",
        "\n",
        "    train_points = []\n",
        "    train_labels = []\n",
        "    test_points = []\n",
        "    test_labels = []\n",
        "    class_map = {}\n",
        "    folders = glob.glob(os.path.join(DATA_DIR, \"[!README]*\"))\n",
        "\n",
        "    for i, folder in enumerate(folders):\n",
        "        print(\"processing class: {}\".format(os.path.basename(folder)))\n",
        "        # store folder name with ID so we can retrieve later\n",
        "        class_map[i] = folder.split(\"/\")[-1]\n",
        "        # gather all files\n",
        "        train_files = glob.glob(os.path.join(folder, \"train/*\"))\n",
        "        test_files = glob.glob(os.path.join(folder, \"test/*\"))\n",
        "\n",
        "        for f in train_files:\n",
        "            train_points.append(trimesh.load(f).sample(num_points))\n",
        "            train_labels.append(i)\n",
        "\n",
        "        for f in test_files:\n",
        "            test_points.append(trimesh.load(f).sample(num_points))\n",
        "            test_labels.append(i)\n",
        "\n",
        "    return (\n",
        "        np.array(train_points),\n",
        "        np.array(test_points),\n",
        "        np.array(train_labels),\n",
        "        np.array(test_labels),\n",
        "        class_map,\n",
        "    )"
      ],
      "execution_count": null,
      "outputs": []
    },
    {
      "cell_type": "markdown",
      "metadata": {
        "id": "U2lt92gJhd00"
      },
      "source": [
        "We will sample 100 points from each 3D object in the dataset - because any larger will be too large to run! "
      ]
    },
    {
      "cell_type": "code",
      "metadata": {
        "id": "lZECOT6-oegj"
      },
      "source": [
        "npoints = 100 #number of points to sample\n",
        "nclasses = 10  #number of classes/labels\n",
        "\n",
        "train_points, test_points, train_labels, test_labels, CLASS_MAP = parse_dataset(npoints)"
      ],
      "execution_count": null,
      "outputs": []
    },
    {
      "cell_type": "code",
      "metadata": {
        "id": "RhRzh6ibojHQ"
      },
      "source": [
        "print('train size:', train_points.shape) # we have 3991 sets of training data each with 1000 points with x,y,z location coordinates\n",
        "print('test size:', test_points.shape) # we have 908 sets of test data each with 1000 points with x,y,z location coordinates"
      ],
      "execution_count": null,
      "outputs": []
    },
    {
      "cell_type": "code",
      "metadata": {
        "id": "5IJc1IFXqjKM"
      },
      "source": [
        "i = 1500 #plot the 1500th training sample\n",
        "\n",
        "fig = plt.figure(figsize=(5, 5))\n",
        "ax = fig.add_subplot(111, projection=\"3d\")\n",
        "ax.scatter(train_points[i, :, 0], train_points[i, :, 1], train_points[i, :, 2])\n",
        "ax.set_axis_off()\n",
        "fig.suptitle('label: '+CLASS_MAP[train_labels[i]]) #title is the label\n",
        "plt.show()"
      ],
      "execution_count": null,
      "outputs": []
    },
    {
      "cell_type": "markdown",
      "metadata": {
        "id": "8t33SrGwXRiF"
      },
      "source": [
        "We need to make a graph from the point cloud data. This can be done with help from k-nearest neighbours agorithm to find points that live close together in space."
      ]
    },
    {
      "cell_type": "code",
      "metadata": {
        "id": "THUO-Y8Q7ztK"
      },
      "source": [
        "# this function converts point cloud data into a graph\n",
        "def pc2graph(pc, knn, threshold):\n",
        "  G =  # initialise networkx graph\n",
        "  N =  #number of nodes \n",
        "  ix = #make an array with the number of each node\n",
        "\n",
        "  nn = NearestNeighbors(n_neighbors=knn, metric='euclidean',\n",
        "                              leaf_size=15, n_jobs=-1).fit(pc)\n",
        "  distances, indices = nn.kneighbors(pc) #returns the distances and indices of the k-nearest neihgbours for each node\n",
        "\n",
        "\n",
        "  #make a list of pairs of nodes which are neighbours\n",
        "  edges = # array of size [N,3] that stores the pair indices and the distances between them\n",
        "\n",
        "  # add nodes to graph using any function from nx \n",
        "\n",
        "  # add edges, weighted by the distances between the pairs using any function from nx\n",
        "\n",
        "  return G\n",
        "\n"
      ],
      "execution_count": null,
      "outputs": []
    },
    {
      "cell_type": "markdown",
      "metadata": {
        "id": "F-4MLWfCi0e8"
      },
      "source": [
        "Now let's check that function works, by getting a graph of the 1st 3D object and plotting it"
      ]
    },
    {
      "cell_type": "code",
      "metadata": {
        "id": "2pcZrt3FiJmr"
      },
      "source": [
        "pc = train_points[0,:,:] # point cloud data\n",
        "knn = 8 #number of neighbours\n",
        "threshold = 20 # minimum distance of nodes to be a neighbour\n",
        "G = pc2graph(pc, knn, threshold)"
      ],
      "execution_count": null,
      "outputs": []
    },
    {
      "cell_type": "code",
      "metadata": {
        "id": "lD7y2F2tZTJK"
      },
      "source": [
        "nx.draw(G, with_labels=True) #This graph looks really messy because the huge number of nodes. It may be useful to look at the graph made with less points, this can by done by editing pc"
      ],
      "execution_count": null,
      "outputs": []
    },
    {
      "cell_type": "code",
      "metadata": {
        "id": "4ZzBsQ07BswU"
      },
      "source": [
        "A = #get adjacency matrix\n",
        "plt.imshow(A);"
      ],
      "execution_count": null,
      "outputs": []
    },
    {
      "cell_type": "code",
      "metadata": {
        "id": "HGoIhKWaF4oa"
      },
      "source": [
        "# Get laplacian - remember the Laplacian = D - A or you can use a function from nx\n",
        "L =\n",
        "plt.imshow(L.toarray());"
      ],
      "execution_count": null,
      "outputs": []
    },
    {
      "cell_type": "markdown",
      "metadata": {
        "id": "n9g76IiTn7PO"
      },
      "source": [
        "Now we train on the data. We have used just 100 points, any larger and you may want to reduce the number of nodes using pooling. "
      ]
    },
    {
      "cell_type": "markdown",
      "metadata": {
        "id": "uJk2wQFqazIT"
      },
      "source": [
        "In order to do classification we need to make an adjacency matrix from all the graphs. This is going to be huge - for 100 nodes and 100 training objects, that's a 10000x10000 matrix already!! So let's just use 100 training objects from 2 classes - toilet and bed, 50 from each"
      ]
    },
    {
      "cell_type": "code",
      "metadata": {
        "id": "ksle3sfbaw01"
      },
      "source": [
        "CLASS_MAP #list the objects"
      ],
      "execution_count": null,
      "outputs": []
    },
    {
      "cell_type": "markdown",
      "metadata": {
        "id": "D3X3Fl0vkHj5"
      },
      "source": [
        "The adjacency matrix is a matrix of all the individual graph adjacency matrices stacked along the diagonal.\n",
        "\n",
        "![Screenshot 2021-02-26 at 18.22.30.png](data:image/png;base64,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)\n",
        "\n"
      ]
    },
    {
      "cell_type": "code",
      "metadata": {
        "id": "p6kXmTDsca6q"
      },
      "source": [
        "#write a function that takes the classes that you are interested, the number of data samples from each class you want to use and the number of points in each object, and returns a combined adjacency matrix for the graphs in your dataset, and the corresponding labels.  \n",
        "\n",
        "def make_adj(npoints, train_labels, ndata, classes, knn, threshold):  \n",
        "  # npoints: number of nodes in each graph\n",
        "  # train_labels: training labels from the graphs\n",
        "  # ndata: number of data samples in each class\n",
        "  # classes: array of classs indices\n",
        "\n",
        "  nclasses = # number of classes\n",
        "  adj_sz = # size of adjacency matrix\n",
        "  A = np.zeros([adj_sz, adj_sz]) #make an empty matrix to store the values of the adjacency matrix\n",
        "  \n",
        "  labels = []\n",
        "  ind = []\n",
        "  for c in classes: #loop over the classes get the indices and labels of each class\n",
        "    labels = np.append(labels, np.repeat(c, ndata))\n",
        "    ind = np.append(ind, np.where(train_labels == c)[0][0:ndata])\n",
        "  \n",
        "  #shuffle the data, but make sure you shuffle both the indices labels simultaneously! \n",
        "  sortlabels = \n",
        "  sortind = \n",
        "\n",
        "  # Here you need to get the graph for each object in sortind, and append the adjacency matrix to the larger adjacency matrix of all the graphs\n",
        "\n",
        "  return(A, sortlabels)\n"
      ],
      "execution_count": null,
      "outputs": []
    },
    {
      "cell_type": "code",
      "metadata": {
        "id": "xucJ2CuBhdty"
      },
      "source": [
        "# To check it works make and plot the adjacency matrix, it should only contain values along the diagonal. \n",
        "A, y = make_adj(npoints = npoints, train_labels=train_labels, ndata = 50, classes=[4,8], knn=8, threshold=20)\n",
        "plt.imshow(A);"
      ],
      "execution_count": null,
      "outputs": []
    },
    {
      "cell_type": "markdown",
      "metadata": {
        "id": "pweZKmLhnV98"
      },
      "source": [
        "Now we will use the public code GCN to train our network. GCN requires an adjacency matrix in scipy compressed sparse row format, a feature matrix and the labels."
      ]
    },
    {
      "cell_type": "code",
      "metadata": {
        "id": "XjLtgOWuPfC3"
      },
      "source": [
        "adj = csr_matrix(A) #convert adjacency matrix to compressed sparse row format"
      ],
      "execution_count": null,
      "outputs": []
    },
    {
      "cell_type": "code",
      "metadata": {
        "id": "eGsVqdxSlPme"
      },
      "source": [
        "# make a N x f, feature matrix where N is number of nodes and f is number of features. We will use the identity matrix. The feature matrix needs to be in the scipy list of lists format\n",
        "features = \n",
        "features = sp.lil_matrix(features) "
      ],
      "execution_count": null,
      "outputs": []
    },
    {
      "cell_type": "code",
      "metadata": {
        "id": "ebSZz9dloF7n"
      },
      "source": [
        "# make a binary label matrix, this is length of the adjacency matrix x number of classes in size. It is a one hot encoded.\n",
        "labels = "
      ],
      "execution_count": null,
      "outputs": []
    },
    {
      "cell_type": "markdown",
      "metadata": {
        "id": "EcUHx7JDpP0f"
      },
      "source": [
        "We need to make masks for the training, validation and test sets, these are arrays with True/False values corresponding to the each row in labels telling you if the label is used in the training/validation/test sample. "
      ]
    },
    {
      "cell_type": "code",
      "metadata": {
        "id": "okBKkCdCSYvt"
      },
      "source": [
        "# use first 80 for training, 10 for validation, 10 for test\n",
        "train_mask = \n",
        "val_mask = \n",
        "test_mask = \n",
        "y_train = labels\n",
        "y_val = labels\n",
        "y_test = labels"
      ],
      "execution_count": null,
      "outputs": []
    },
    {
      "cell_type": "code",
      "metadata": {
        "id": "JtIyFNMUPpr-"
      },
      "source": [
        "features = preprocess_features(features) # we need to preprocess the features and adjacency matrix, normalising them. \n",
        "support = [preprocess_adj(adj)]\n",
        "num_supports = 1"
      ],
      "execution_count": null,
      "outputs": []
    },
    {
      "cell_type": "markdown",
      "metadata": {
        "id": "vQn3fDQhaT6_"
      },
      "source": [
        "The following is taken from GCN public code - https://github.com/tkipf/gc"
      ]
    },
    {
      "cell_type": "code",
      "metadata": {
        "id": "-gho4J6tZu0u"
      },
      "source": [
        "from gcn.layers import *\n",
        "from gcn.metrics import *\n",
        "\n",
        "class Model(object):\n",
        "    def __init__(self, **kwargs):\n",
        "        allowed_kwargs = {'name', 'logging'}\n",
        "        for kwarg in kwargs.keys():\n",
        "            assert kwarg in allowed_kwargs, 'Invalid keyword argument: ' + kwarg\n",
        "        name = kwargs.get('name')\n",
        "        if not name:\n",
        "            name = self.__class__.__name__.lower()\n",
        "        self.name = name\n",
        "\n",
        "        logging = kwargs.get('logging', False)\n",
        "        self.logging = logging\n",
        "\n",
        "        self.vars = {}\n",
        "        self.placeholders = {}\n",
        "\n",
        "        self.layers = []\n",
        "        self.activations = []\n",
        "\n",
        "        self.inputs = None\n",
        "        self.outputs = None\n",
        "\n",
        "        self.loss = 0\n",
        "        self.accuracy = 0\n",
        "        self.optimizer = None\n",
        "        self.opt_op = None\n",
        "\n",
        "    def _build(self):\n",
        "        raise NotImplementedError\n",
        "\n",
        "    def build(self):\n",
        "        \"\"\" Wrapper for _build() \"\"\"\n",
        "        with tf.variable_scope(self.name):\n",
        "            self._build()\n",
        "\n",
        "        # Build sequential layer model\n",
        "        self.activations.append(self.inputs)\n",
        "        for layer in self.layers:\n",
        "            hidden = layer(self.activations[-1])\n",
        "            self.activations.append(hidden)\n",
        "        self.outputs = self.activations[-1]\n",
        "\n",
        "        # Store model variables for easy access\n",
        "        variables = tf.get_collection(tf.GraphKeys.GLOBAL_VARIABLES, scope=self.name)\n",
        "        self.vars = {var.name: var for var in variables}\n",
        "\n",
        "        # Build metrics\n",
        "        self._loss()\n",
        "        self._accuracy()\n",
        "\n",
        "        self.opt_op = self.optimizer.minimize(self.loss)\n",
        "\n",
        "    def predict(self):\n",
        "        pass\n",
        "\n",
        "    def _loss(self):\n",
        "        raise NotImplementedError\n",
        "\n",
        "    def _accuracy(self):\n",
        "        raise NotImplementedError\n",
        "\n",
        "    def save(self, sess=None):\n",
        "        if not sess:\n",
        "            raise AttributeError(\"TensorFlow session not provided.\")\n",
        "        saver = tf.train.Saver(self.vars)\n",
        "        save_path = saver.save(sess, \"tmp/%s.ckpt\" % self.name)\n",
        "        print(\"Model saved in file: %s\" % save_path)\n",
        "\n",
        "    def load(self, sess=None):\n",
        "        if not sess:\n",
        "            raise AttributeError(\"TensorFlow session not provided.\")\n",
        "        saver = tf.train.Saver(self.vars)\n",
        "        save_path = \"tmp/%s.ckpt\" % self.name\n",
        "        saver.restore(sess, save_path)\n",
        "        print(\"Model restored from file: %s\" % save_path)\n",
        "\n",
        "\n",
        "class GCN(Model):\n",
        "    def __init__(self, placeholders, input_dim, **kwargs):\n",
        "        super(GCN, self).__init__(**kwargs)\n",
        "\n",
        "        self.inputs = placeholders['features']\n",
        "        self.input_dim = input_dim\n",
        "        # self.input_dim = self.inputs.get_shape().as_list()[1]  # To be supported in future Tensorflow versions\n",
        "        self.output_dim = placeholders['labels'].get_shape().as_list()[1]\n",
        "        self.placeholders = placeholders\n",
        "\n",
        "        self.optimizer = tf.train.AdamOptimizer(learning_rate=0.01)\n",
        "\n",
        "        self.build()\n",
        "\n",
        "    def _loss(self):\n",
        "        # Weight decay loss\n",
        "        for var in self.layers[0].vars.values():\n",
        "            self.loss += 5e-4 * tf.nn.l2_loss(var)\n",
        "\n",
        "        # Cross entropy error\n",
        "        self.loss += masked_softmax_cross_entropy(self.outputs, self.placeholders['labels'],\n",
        "                                                  self.placeholders['labels_mask'])\n",
        "\n",
        "    def _accuracy(self):\n",
        "        self.accuracy = masked_accuracy(self.outputs, self.placeholders['labels'],\n",
        "                                        self.placeholders['labels_mask'])\n",
        "\n",
        "    def _build(self):\n",
        "\n",
        "        self.layers.append(GraphConvolution(input_dim=self.input_dim,\n",
        "                                            output_dim=16,\n",
        "                                            placeholders=self.placeholders,\n",
        "                                            act=tf.nn.relu,\n",
        "                                            dropout=True,\n",
        "                                            sparse_inputs=True,\n",
        "                                            logging=self.logging))\n",
        "\n",
        "        self.layers.append(GraphConvolution(input_dim=16,\n",
        "                                            output_dim=self.output_dim,\n",
        "                                            placeholders=self.placeholders,\n",
        "                                            act=lambda x: x,\n",
        "                                            dropout=True,\n",
        "                                            logging=self.logging))\n",
        "\n",
        "    def predict(self):\n",
        "        return tf.nn.softmax(self.outputs)\n"
      ],
      "execution_count": null,
      "outputs": []
    },
    {
      "cell_type": "code",
      "metadata": {
        "id": "DngLEsfqTSp1"
      },
      "source": [
        "# Define placeholders\n",
        "placeholders = {\n",
        "    'support': [tf.sparse_placeholder(tf.float32) for _ in range(num_supports)],\n",
        "    'features': tf.sparse_placeholder(tf.float32, shape=tf.constant(features[2], dtype=tf.int64)),\n",
        "    'labels': tf.placeholder(tf.float32, shape=(None, y_train.shape[1])),\n",
        "    'labels_mask': tf.placeholder(tf.int32),\n",
        "    'dropout': tf.placeholder_with_default(0., shape=()),\n",
        "    'num_features_nonzero': tf.placeholder(tf.int32)  # helper variable for sparse dropout\n",
        "}\n",
        "\n",
        "# Create model\n",
        "model = GCN(placeholders, input_dim=features[2][1], logging=True)\n",
        "\n",
        "# Initialize session\n",
        "sess = tf.Session()\n",
        "\n",
        "\n",
        "# Define model evaluation function\n",
        "def evaluate(features, support, labels, mask, placeholders):\n",
        "    t_test = time.time()\n",
        "    feed_dict_val = construct_feed_dict(features, support, labels, mask, placeholders)\n",
        "    outs_val = sess.run([model.loss, model.accuracy], feed_dict=feed_dict_val)\n",
        "    return outs_val[0], outs_val[1], (time.time() - t_test)\n",
        "\n",
        "\n",
        "# Init variables\n",
        "sess.run(tf.global_variables_initializer())\n",
        "\n",
        "cost_val = []\n",
        "\n",
        "# Train model\n",
        "for epoch in range(200):\n",
        "\n",
        "    t = time.time()\n",
        "    # Construct feed dictionary\n",
        "    feed_dict = construct_feed_dict(features, support, y_train, train_mask, placeholders)\n",
        "    feed_dict.update({placeholders['dropout']: dropout})\n",
        "\n",
        "    # Training step\n",
        "    outs = sess.run([model.opt_op, model.loss, model.accuracy], feed_dict=feed_dict)\n",
        "\n",
        "    # Validation\n",
        "    cost, acc, duration = evaluate(features, support, y_val, val_mask, placeholders)\n",
        "    cost_val.append(cost)\n",
        "\n",
        "    # Print results\n",
        "    print(\"Epoch:\", '%04d' % (epoch + 1), \"train_loss=\", \"{:.5f}\".format(outs[1]),\n",
        "          \"train_acc=\", \"{:.5f}\".format(outs[2]), \"val_loss=\", \"{:.5f}\".format(cost),\n",
        "          \"val_acc=\", \"{:.5f}\".format(acc), \"time=\", \"{:.5f}\".format(time.time() - t))\n",
        "\n",
        "print(\"Optimization Finished!\")\n",
        "\n",
        "# Testing\n",
        "test_cost, test_acc, test_duration = evaluate(features, support, y_test, test_mask, placeholders)\n",
        "print(\"Test set results:\", \"cost=\", \"{:.5f}\".format(test_cost),\n",
        "      \"accuracy=\", \"{:.5f}\".format(test_acc), \"time=\", \"{:.5f}\".format(test_duration))"
      ],
      "execution_count": null,
      "outputs": []
    },
    {
      "cell_type": "code",
      "metadata": {
        "id": "jlC2jN7FZScJ"
      },
      "source": [
        ""
      ],
      "execution_count": null,
      "outputs": []
    }
  ]
}