{
  "nbformat": 4,
  "nbformat_minor": 0,
  "metadata": {
    "colab": {
      "name": "linear.ipynb",
      "provenance": [],
      "include_colab_link": true
    },
    "kernelspec": {
      "display_name": "Python 3",
      "language": "python",
      "name": "python3"
    },
    "language_info": {
      "codemirror_mode": {
        "name": "ipython",
        "version": 3
      },
      "file_extension": ".py",
      "mimetype": "text/x-python",
      "name": "python",
      "nbconvert_exporter": "python",
      "pygments_lexer": "ipython3",
      "version": "3.7.4"
    }
  },
  "cells": [
    {
      "cell_type": "markdown",
      "metadata": {
        "id": "view-in-github",
        "colab_type": "text"
      },
      "source": [
        "<a href=\"https://colab.research.google.com/github/adammoss/MLiS2/blob/master/examples/intro/linear.ipynb\" target=\"_parent\"><img src=\"https://colab.research.google.com/assets/colab-badge.svg\" alt=\"Open In Colab\"/></a>"
      ]
    },
    {
      "cell_type": "markdown",
      "metadata": {
        "id": "VvAxo8-piUE4"
      },
      "source": [
        "The simplest type of neural network is the linear model, which maps an input vector to a scalar output by \n",
        "\n",
        "$\n",
        "\\hat{y} = \\mathbf{x}^T \\mathbf{w} \\,.\n",
        "$\n",
        "\n",
        "Computationally it is more efficient to pass through an entire batch of inputs, in which case \n",
        "\n",
        "$\n",
        "\\hat{\\mathbf{Y}} = \\mathbf{X} \\mathbf{w} \\,.\n",
        "$\n",
        "\n",
        "Let us see how the linear model performs on two simple problems: learning the AND and XOR (exclusive OR) functions. The AND function is an operation on two binary values, $x_1$ and $x_2$, which is equal to 1 when $x_1=x_2=1$ and 0 otherwise. The inputs and targets are then  (with the first column of $\\mathbf{X}$ all ones)\n",
        "\n",
        "\n",
        "$\n",
        "\\mathbf{X} = \\begin{bmatrix}\n",
        "1 & 0 & 0 \\\\\n",
        "1 & 0 & 1  \\\\\n",
        "1& 1 & 0 \\\\\n",
        "1 & 1 & 1 \n",
        "\\end{bmatrix}\\,, \\quad \\mathbf{Y} = \\begin{bmatrix}\n",
        "0 \\\\\n",
        "0  \\\\\n",
        "0 \\\\ \n",
        "1  \n",
        "\\end{bmatrix}\\,.\n",
        "$\n",
        "\n",
        "For the XOR problem, when exactly one of $x_1$ or $x_2$ is equal to 1 it returns 1, otherwise it returns 0. The inputs and targets are then \n",
        "\n",
        "$\n",
        "\\mathbf{X} = \\begin{bmatrix}\n",
        "1 & 0 & 0 \\\\\n",
        "1 & 0 & 1  \\\\\n",
        "1& 1 & 0 \\\\\n",
        "1 & 1 & 1 \n",
        "\\end{bmatrix}\\,, \\quad \\mathbf{Y} = \\begin{bmatrix}\n",
        "0 \\\\\n",
        "1  \\\\\n",
        "1 \\\\ \n",
        "0  \n",
        "\\end{bmatrix}\\,.\n",
        "$\n",
        "\n",
        "We choose to model this as a regression problem and so use the MSE loss. In reality, when dealing with binary data, the BCE is usually more appropriate, but using the MSE simplifies the maths. The loss is then (ignoring the factor $1/N$)\n",
        "\n",
        "$\n",
        " L  (\\mathbf{w}) = \\left( \\mathbf{X} \\mathbf{w} -   \\mathbf{Y}  \\right)^T \\left( \\mathbf{X} \\mathbf{w} -   \\mathbf{Y}  \\right)\\,.\n",
        " $\n",
        "\n",
        " The optimal weights can be found by calculating the gradient of the loss and solving the normal equations\n",
        "\n",
        "$\n",
        " \\nabla_{\\mathbf{w}}  L  (\\mathbf{w})  = 2 \\mathbf{X}^T \\mathbf{X} \\mathbf{w} - 2 \\mathbf{X}^T \\mathbf{Y} = \\mathbf{0}\\,,\n",
        "$\n",
        "\n",
        " which gives the solution $\\mathbf{w}  = \\left( \\mathbf{X}^T \\mathbf{X} \\right)^{-1}  \\mathbf{X}^T \\mathbf{Y}$. \n",
        " \n",
        "Let us first attempt to learn the AND function.\n",
        "\n",
        "\n"
      ]
    },
    {
      "cell_type": "code",
      "metadata": {
        "id": "SU0UBNf2iY9M"
      },
      "source": [
        "import numpy as np\n",
        "import matplotlib.pyplot as plt"
      ],
      "execution_count": null,
      "outputs": []
    },
    {
      "cell_type": "code",
      "metadata": {
        "colab": {
          "base_uri": "https://localhost:8080/",
          "height": 85
        },
        "id": "SN2nLTDdiTmv",
        "outputId": "804583a2-471d-42d2-ad71-12d874503a5b"
      },
      "source": [
        "X = np.array([[1,0,0], [1,0,1], [1,1,0], [1,1,1]])\n",
        "print(X)"
      ],
      "execution_count": null,
      "outputs": [
        {
          "output_type": "stream",
          "text": [
            "[[1 0 0]\n",
            " [1 0 1]\n",
            " [1 1 0]\n",
            " [1 1 1]]\n"
          ],
          "name": "stdout"
        }
      ]
    },
    {
      "cell_type": "code",
      "metadata": {
        "id": "fjqnS8oHhIFg"
      },
      "source": [
        "inv = np.linalg.inv(np.matmul(X.T, X))"
      ],
      "execution_count": null,
      "outputs": []
    },
    {
      "cell_type": "code",
      "metadata": {
        "colab": {
          "base_uri": "https://localhost:8080/",
          "height": 85
        },
        "id": "pSpvpo1shGzu",
        "outputId": "22d3ca52-11f4-4d37-c2c6-17004d460913"
      },
      "source": [
        "Y = np.array([[0], [0], [0], [1]])\n",
        "print(Y)"
      ],
      "execution_count": null,
      "outputs": [
        {
          "output_type": "stream",
          "text": [
            "[[0]\n",
            " [0]\n",
            " [0]\n",
            " [1]]\n"
          ],
          "name": "stdout"
        }
      ]
    },
    {
      "cell_type": "markdown",
      "metadata": {
        "id": "ELYVz8qEGsfW"
      },
      "source": [
        "Visualising what this looks like, we color code the y=0 data points in black and y=1 values in red"
      ]
    },
    {
      "cell_type": "code",
      "metadata": {
        "id": "YYZMSYs_GsfW",
        "outputId": "c6cd9242-b731-41aa-c198-07e2c5737228"
      },
      "source": [
        "plt.scatter(X[:,1], X[:,2],c=np.reshape(Y,4), edgecolors='black', cmap='gray');"
      ],
      "execution_count": null,
      "outputs": [
        {
          "output_type": "display_data",
          "data": {
            "image/png": "[encoded data removed]",
            "text/plain": [
              "<Figure size 432x288 with 1 Axes>"
            ]
          },
          "metadata": {
            "tags": [],
            "needs_background": "light"
          }
        }
      ]
    },
    {
      "cell_type": "code",
      "metadata": {
        "colab": {
          "base_uri": "https://localhost:8080/",
          "height": 68
        },
        "id": "tqkP-Tm_g34R",
        "outputId": "ceb5465b-70e3-43ca-ab54-acd320bc55eb"
      },
      "source": [
        "w = np.matmul(inv,  np.matmul(X.T, Y))\n",
        "print(w)"
      ],
      "execution_count": null,
      "outputs": [
        {
          "output_type": "stream",
          "text": [
            "[[-0.25]\n",
            " [ 0.5 ]\n",
            " [ 0.5 ]]\n"
          ],
          "name": "stdout"
        }
      ]
    },
    {
      "cell_type": "code",
      "metadata": {
        "colab": {
          "base_uri": "https://localhost:8080/",
          "height": 85
        },
        "id": "AokmboQPg8cZ",
        "outputId": "9ce27529-4c33-4dd0-9dd4-f41bca88da6b"
      },
      "source": [
        "Yhat = np.matmul(X, w)\n",
        "print(Yhat)"
      ],
      "execution_count": null,
      "outputs": [
        {
          "output_type": "stream",
          "text": [
            "[[-0.25]\n",
            " [ 0.25]\n",
            " [ 0.25]\n",
            " [ 0.75]]\n"
          ],
          "name": "stdout"
        }
      ]
    },
    {
      "cell_type": "markdown",
      "metadata": {
        "id": "6IcDlUcWGsfX"
      },
      "source": [
        "We can plot the predictions"
      ]
    },
    {
      "cell_type": "code",
      "metadata": {
        "id": "jcYAn4qpGsfX",
        "outputId": "104995d3-ab7f-47ee-c9be-aa9759fb95f1"
      },
      "source": [
        "plt.scatter(X[:,1], X[:,2],c=np.reshape(Yhat,4), edgecolors='black', cmap='gray');"
      ],
      "execution_count": null,
      "outputs": [
        {
          "output_type": "display_data",
          "data": {
            "image/png": "[encoded data removed]",
            "text/plain": [
              "<Figure size 432x288 with 1 Axes>"
            ]
          },
          "metadata": {
            "tags": [],
            "needs_background": "light"
          }
        }
      ]
    },
    {
      "cell_type": "markdown",
      "metadata": {
        "id": "P0PlShjwGsfY"
      },
      "source": [
        "We if we have new points, we can use the trained model to predict the Y values"
      ]
    },
    {
      "cell_type": "code",
      "metadata": {
        "id": "4rBYxcHbGsfY"
      },
      "source": [
        "n=100\n",
        "Xtest = np.transpose(np.reshape(np.append(np.ones(n),np.random.uniform(0,1,n*2)),(3,n)))\n",
        "Yhattest = np.matmul(Xtest, w)"
      ],
      "execution_count": null,
      "outputs": []
    },
    {
      "cell_type": "code",
      "metadata": {
        "id": "y6yXguYFGsfY",
        "outputId": "d2c6f76f-19ef-46f4-f62a-8563aea7b5fc"
      },
      "source": [
        "plt.scatter(Xtest[:,1], Xtest[:,2],c=np.reshape(Yhattest,n), edgecolors='black', cmap='gray');\n",
        "plt.xlim([0,1]);\n",
        "plt.ylim([0,1]);"
      ],
      "execution_count": null,
      "outputs": [
        {
          "output_type": "display_data",
          "data": {
            "image/png": "[encoded data removed]",
            "text/plain": [
              "<Figure size 432x288 with 1 Axes>"
            ]
          },
          "metadata": {
            "tags": [],
            "needs_background": "light"
          }
        }
      ]
    },
    {
      "cell_type": "markdown",
      "metadata": {
        "id": "Kxja-NcDlmPd"
      },
      "source": [
        "Now let us attempt to learn the XOR function."
      ]
    },
    {
      "cell_type": "code",
      "metadata": {
        "colab": {
          "base_uri": "https://localhost:8080/",
          "height": 85
        },
        "id": "0ycubNISlokQ",
        "outputId": "8526533d-9ef3-4f04-e9b5-6bbad5c89965"
      },
      "source": [
        "Y = np.array([[0], [1], [1], [0]])\n",
        "print(Y)"
      ],
      "execution_count": null,
      "outputs": [
        {
          "output_type": "stream",
          "text": [
            "[[0]\n",
            " [1]\n",
            " [1]\n",
            " [0]]\n"
          ],
          "name": "stdout"
        }
      ]
    },
    {
      "cell_type": "code",
      "metadata": {
        "colab": {
          "base_uri": "https://localhost:8080/",
          "height": 68
        },
        "id": "LI89H99LlrZD",
        "outputId": "5b2d14be-42f6-43d7-d4ca-93b0862a0ec1"
      },
      "source": [
        "w = np.matmul(inv,  np.matmul(X.T, Y))\n",
        "print(w)"
      ],
      "execution_count": null,
      "outputs": [
        {
          "output_type": "stream",
          "text": [
            "[[0.5]\n",
            " [0. ]\n",
            " [0. ]]\n"
          ],
          "name": "stdout"
        }
      ]
    },
    {
      "cell_type": "code",
      "metadata": {
        "colab": {
          "base_uri": "https://localhost:8080/",
          "height": 85
        },
        "id": "Nz3l5C_-l5nz",
        "outputId": "1e3dbbc2-456f-4f16-9a66-ebf7461a9a45"
      },
      "source": [
        "Yhat = np.matmul(X, w)\n",
        "print(Yhat)"
      ],
      "execution_count": null,
      "outputs": [
        {
          "output_type": "stream",
          "text": [
            "[[0.5]\n",
            " [0.5]\n",
            " [0.5]\n",
            " [0.5]]\n"
          ],
          "name": "stdout"
        }
      ]
    },
    {
      "cell_type": "code",
      "metadata": {
        "id": "aquvWy4LGsfZ",
        "outputId": "8d8dd56b-8762-4dd1-d69d-97d6f984ff9f"
      },
      "source": [
        "plt.scatter(X[:,1], X[:,2],c=np.reshape(Yhat,4), edgecolors='black', cmap='gray');"
      ],
      "execution_count": null,
      "outputs": [
        {
          "output_type": "display_data",
          "data": {
            "image/png": "[encoded data removed]",
            "text/plain": [
              "<Figure size 432x288 with 1 Axes>"
            ]
          },
          "metadata": {
            "tags": [],
            "needs_background": "light"
          }
        }
      ]
    },
    {
      "cell_type": "markdown",
      "metadata": {
        "id": "528QTK744D-m"
      },
      "source": [
        "The linear model completely fails to represent the XOR function, outputting 1/2 for all examples. Similarly this is true of the test sample"
      ]
    },
    {
      "cell_type": "code",
      "metadata": {
        "id": "3TqsQ7FkGsfa"
      },
      "source": [
        "n=100\n",
        "Xtest = np.transpose(np.reshape(np.append(np.ones(n),np.random.uniform(0,1,n*2)),(3,n)))\n",
        "Yhattest = np.matmul(Xtest, w)"
      ],
      "execution_count": null,
      "outputs": []
    },
    {
      "cell_type": "code",
      "metadata": {
        "id": "66LyFPN0Gsfa",
        "outputId": "4c6c0b06-9481-48ca-e2ce-86d1a06dd296"
      },
      "source": [
        "plt.scatter(Xtest[:,1], Xtest[:,2],c=np.reshape(Yhattest,n), edgecolors='black', cmap='gray');\n",
        "plt.xlim([0,1]);\n",
        "plt.ylim([0,1]);\n"
      ],
      "execution_count": null,
      "outputs": [
        {
          "output_type": "display_data",
          "data": {
            "image/png": "[encoded data removed]",
            "text/plain": [
              "<Figure size 432x288 with 1 Axes>"
            ]
          },
          "metadata": {
            "tags": [],
            "needs_background": "light"
          }
        }
      ]
    }
  ]
}